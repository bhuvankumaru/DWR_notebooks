{
 "cells": [
  {
   "cell_type": "code",
   "execution_count": 14,
   "id": "5d6a58bd-2de2-4deb-a908-1a59d7058305",
   "metadata": {},
   "outputs": [],
   "source": [
    "import glob\n",
    "import os\n",
    "\n",
    "import datetime as dt\n",
    "from pathlib import Path\n",
    "\n",
    "\n",
    "import numpy as np\n",
    "import pandas as pd\n",
    "\n",
    "\n",
    "from mintpy.objects import timeseries\n",
    "from mintpy.utils import ptime, readfile, utils as ut\n",
    "\n",
    "from matplotlib import pyplot as plt\n",
    "\n"
   ]
  },
  {
   "cell_type": "code",
   "execution_count": 16,
   "id": "aada7feb-c35f-4ada-9f04-eac4560842a6",
   "metadata": {},
   "outputs": [],
   "source": [
    "ARIA_vert_timeseries_file= r'C:\\Users\\bvarugu\\Documents\\merged_UP_GNSS_corrected_timeseries.h5';\n",
    "ARIA_vert_ts_dates = timeseries(ARIA_vert_timeseries_file).get_date_list();\n",
    "ARIA_vert_ts_atr = timeseries(ARIA_vert_timeseries_file).get_metadata();\n"
   ]
  },
  {
   "cell_type": "code",
   "execution_count": 18,
   "id": "883078c2-9afa-43c7-980c-d7d042238d36",
   "metadata": {},
   "outputs": [],
   "source": [
    "Annual_map_name = '20220801_20230801'\n",
    "def get_annual_map(map_name,ts_file,units='m'):\n",
    "    dates = map_name.split('_')\n",
    "    dset1 = readfile.read(ts_file,datasetName=dates[0])[0]\n",
    "    dset2 = readfile.read(ts_file,datasetName=dates[1])[0]\n",
    "    diff = dset2-dset1;\n",
    "    if units == 'ft':\n",
    "        diff *= 3.28084\n",
    "    return diff\n",
    "annual_map = get_annual_map(Annual_map_name,ARIA_vert_timeseries_file,units='ft')"
   ]
  },
  {
   "cell_type": "code",
   "execution_count": 20,
   "id": "8efdb3b5-86fb-442e-816d-1057868658d5",
   "metadata": {},
   "outputs": [],
   "source": [
    "xmin,xmax = 4000,6000;\n",
    "ymin,ymax = 4000, 6000;\n",
    "test_annual_map = annual_map[ymin:ymax,xmin:xmax]"
   ]
  },
  {
   "cell_type": "code",
   "execution_count": 26,
   "id": "95173f86-2a13-4ad1-8521-061a23938017",
   "metadata": {},
   "outputs": [
    {
     "ename": "ValueError",
     "evalue": "not enough values to unpack (expected 2, got 1)",
     "output_type": "error",
     "traceback": [
      "\u001b[1;31m---------------------------------------------------------------------------\u001b[0m",
      "\u001b[1;31mValueError\u001b[0m                                Traceback (most recent call last)",
      "Cell \u001b[1;32mIn[26], line 16\u001b[0m\n\u001b[0;32m     14\u001b[0m     \u001b[38;5;28;01mreturn\u001b[39;00m zi\n\u001b[0;32m     15\u001b[0m x,y \u001b[38;5;241m=\u001b[39m np\u001b[38;5;241m.\u001b[39mindices(test_annual_map\u001b[38;5;241m.\u001b[39mshape)\n\u001b[1;32m---> 16\u001b[0m zi \u001b[38;5;241m=\u001b[39m simple_idw(x\u001b[38;5;241m.\u001b[39mflatten(), y\u001b[38;5;241m.\u001b[39mflatten(), test_annual_map\u001b[38;5;241m.\u001b[39mflatten(), x\u001b[38;5;241m.\u001b[39mflatten(), y\u001b[38;5;241m.\u001b[39mflatten())\n",
      "Cell \u001b[1;32mIn[26], line 4\u001b[0m, in \u001b[0;36msimple_idw\u001b[1;34m(x, y, z, xi, yi)\u001b[0m\n\u001b[0;32m      3\u001b[0m \u001b[38;5;28;01mdef\u001b[39;00m \u001b[38;5;21msimple_idw\u001b[39m(x, y, z, xi, yi):\n\u001b[1;32m----> 4\u001b[0m     dist \u001b[38;5;241m=\u001b[39m distance_matrix(x,y, xi,yi)\n\u001b[0;32m      6\u001b[0m     \u001b[38;5;66;03m# In IDW, weights are 1 / distance\u001b[39;00m\n\u001b[0;32m      7\u001b[0m     weights \u001b[38;5;241m=\u001b[39m \u001b[38;5;241m1.0\u001b[39m \u001b[38;5;241m/\u001b[39m dist\n",
      "File \u001b[1;32m~\\AppData\\Local\\anaconda3\\envs\\mintpy\\Lib\\site-packages\\scipy\\spatial\\_kdtree.py:902\u001b[0m, in \u001b[0;36mdistance_matrix\u001b[1;34m(x, y, p, threshold)\u001b[0m\n\u001b[0;32m    870\u001b[0m \u001b[38;5;250m\u001b[39m\u001b[38;5;124;03m\"\"\"Compute the distance matrix.\u001b[39;00m\n\u001b[0;32m    871\u001b[0m \n\u001b[0;32m    872\u001b[0m \u001b[38;5;124;03mReturns the matrix of all pair-wise distances.\u001b[39;00m\n\u001b[1;32m   (...)\u001b[0m\n\u001b[0;32m    898\u001b[0m \n\u001b[0;32m    899\u001b[0m \u001b[38;5;124;03m\"\"\"\u001b[39;00m\n\u001b[0;32m    901\u001b[0m x \u001b[38;5;241m=\u001b[39m np\u001b[38;5;241m.\u001b[39masarray(x)\n\u001b[1;32m--> 902\u001b[0m m, k \u001b[38;5;241m=\u001b[39m x\u001b[38;5;241m.\u001b[39mshape\n\u001b[0;32m    903\u001b[0m y \u001b[38;5;241m=\u001b[39m np\u001b[38;5;241m.\u001b[39masarray(y)\n\u001b[0;32m    904\u001b[0m n, kk \u001b[38;5;241m=\u001b[39m y\u001b[38;5;241m.\u001b[39mshape\n",
      "\u001b[1;31mValueError\u001b[0m: not enough values to unpack (expected 2, got 1)"
     ]
    }
   ],
   "source": [
    "from scipy.spatial import distance_matrix\n",
    "\n",
    "def simple_idw(x, y, z, xi, yi):\n",
    "    dist = distance_matrix(x,y, xi,yi)\n",
    "\n",
    "    # In IDW, weights are 1 / distance\n",
    "    weights = 1.0 / dist\n",
    "\n",
    "    # Make weights sum to one\n",
    "    weights /= weights.sum(axis=0)\n",
    "\n",
    "    # Multiply the weights for each interpolated point by all observed Z-values\n",
    "    zi = np.dot(weights.T, z)\n",
    "    return zi\n",
    "x,y = np.indices(test_annual_map.shape)\n",
    "zi = simple_idw(x.flatten(), y.flatten(), test_annual_map.flatten(), x.flatten(), y.flatten())"
   ]
  },
  {
   "cell_type": "code",
   "execution_count": 30,
   "id": "f2505a59-777a-46ff-a4bf-e734fa408990",
   "metadata": {},
   "outputs": [
    {
     "data": {
      "text/plain": [
       "0"
      ]
     },
     "execution_count": 30,
     "metadata": {},
     "output_type": "execute_result"
    }
   ],
   "source": []
  },
  {
   "cell_type": "code",
   "execution_count": null,
   "id": "14859521-26f6-4a24-ab31-6588df1f65bc",
   "metadata": {},
   "outputs": [],
   "source": [
    "fig, axes = plt.subplots(1,2,figsize=(10,10),sharey=True);\n",
    "ax1 =axes[0]\n",
    "ax2= axees[1]\n",
    "\n",
    "ax1.imshow(test_annual_map,cmap='jet',vmin=-0.32,vmax=0.32,interpolation='nearest');\n",
    "ax2.imshow(test_interpolated_annual_map,cmap='jet',vmin=-0.32,vmax=0.32,interpolation='nearest');"
   ]
  },
  {
   "cell_type": "code",
   "execution_count": null,
   "id": "4bed6c43-d02b-4946-a2ba-9380ed23e393",
   "metadata": {},
   "outputs": [],
   "source": []
  }
 ],
 "metadata": {
  "kernelspec": {
   "display_name": "mintpy",
   "language": "python",
   "name": "mintpy"
  },
  "language_info": {
   "codemirror_mode": {
    "name": "ipython",
    "version": 3
   },
   "file_extension": ".py",
   "mimetype": "text/x-python",
   "name": "python",
   "nbconvert_exporter": "python",
   "pygments_lexer": "ipython3",
   "version": "3.11.10"
  }
 },
 "nbformat": 4,
 "nbformat_minor": 5
}
