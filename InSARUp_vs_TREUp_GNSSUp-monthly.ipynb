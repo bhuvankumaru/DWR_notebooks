{
 "cells": [
  {
   "cell_type": "code",
   "execution_count": 1,
   "id": "f450d7fa-7b2d-4360-bddf-eb3fa3e83928",
   "metadata": {},
   "outputs": [],
   "source": [
    "import glob\n",
    "import os\n",
    "import subprocess\n",
    "import glob\n",
    "import datetime as dt\n",
    "from pathlib import Path\n",
    "\n",
    "import numpy as np\n",
    "import pandas as pd\n",
    "\n",
    "\n",
    "from mintpy.objects import gnss, timeseries\n",
    "from mintpy.smallbaselineApp import TimeSeriesAnalysis\n",
    "from mintpy.utils import ptime, readfile, utils as ut\n",
    "\n",
    "from matplotlib import pyplot as plt\n",
    "from urllib.request import urlretrieve\n",
    "from matplotlib.backends.backend_pdf import PdfPages\n",
    "\n",
    "import matplotlib.dates as mdates"
   ]
  },
  {
   "cell_type": "code",
   "execution_count": 2,
   "id": "75a3f89a-2e9e-40e3-9b41-4cb1ab1bc6bd",
   "metadata": {},
   "outputs": [],
   "source": [
    "def standardize_longitude(lon, limit='-180to180'):\n",
    "    \"\"\"Normalize the longitude value range into (-180, 180] or [0, 360).\n",
    "\n",
    "    Parameters: lon   - float / np.ndarray, longitude in degree\n",
    "                limit - str, -180to180 or 0to360\n",
    "    Returns:    lon   - float / np.ndarray, longitude in degree\n",
    "    \"\"\"\n",
    "    lon = np.asarray(lon)\n",
    "\n",
    "    # ensure data within (-180, 360)\n",
    "    lon = np.where(lon >= 360, lon - 360, lon)\n",
    "    lon = np.where(lon <= -180, lon + 360, lon)\n",
    "\n",
    "    # range option 1: ensure data within (-180, 180]\n",
    "    if limit == '-180to180':\n",
    "        lon = np.where(lon > 180, lon - 360, lon)\n",
    "\n",
    "    # range option 2: ensure data within [0, 360)\n",
    "    elif limit == '0to360' and np.nanmin(lon) < 0:\n",
    "        lon = np.where(lon < 0, lon + 360, lon)\n",
    "\n",
    "    return float(lon) if np.isscalar(lon) else lon\n",
    "    \n",
    "class GNSS_ESESES:\n",
    "    \"\"\"GNSS child class for daily solutions processed for the Enhanced Solid\n",
    "    Earth Science ESDR System (ESESES) project by JPL and SOPAC.\n",
    "\n",
    "    Website: https://cddis.nasa.gov/Data_and_Derived_Products/GNSS/ESESES_products.html\n",
    "             http://garner.ucsd.edu/pub/measuresESESES_products/\n",
    "    \"\"\"\n",
    "    def __init__(self, site: str, data_dir=None, version='IGS14', url_prefix=None):\n",
    "        self.site = site\n",
    "        self.data_dir = data_dir or os.getcwd()  # Default to current working directory\n",
    "        self.version = version\n",
    "        self.source = 'ESESES'\n",
    "        self.url_prefix = url_prefix\n",
    "        \n",
    "\n",
    "        # get file\n",
    "        self.file = os.path.join(self.data_dir, f'{self.site.lower():s}CleanTrend.neu.Z')\n",
    "\n",
    "        # get url\n",
    "        # moved to GNSS_ESESES.dload_site() to avoid searching url_prefix\n",
    "        # when downloading is not needed.\n",
    "\n",
    "\n",
    "    def dload_site(self, overwrite=True, total_tries=5, print_msg=True):\n",
    "        \"\"\"Download GNSS data file.\n",
    "        \"\"\"\n",
    "        from zipfile import ZipFile\n",
    "\n",
    "        # get url\n",
    "        if not self.url_prefix:\n",
    "            self.url_prefix = gnss.get_ESESES_url_prefix()\n",
    "        self.url = os.path.join(self.url_prefix, os.path.basename(self.file)).replace(\"\\\\\", \"/\");#print('URL is',self.url);\n",
    "        if self.url and overwrite or not os.path.isfile(self.file):\n",
    "            print(f\"downloading site {self.site:s} from {self.source} to {self.file:s}\")\n",
    "            # retry on download fail\n",
    "            # https://stackoverflow.com/questions/31529151\n",
    "            remain_tries = total_tries\n",
    "            while remain_tries > 0 :\n",
    "                try:\n",
    "                    urlretrieve(self.url, self.file)\n",
    "                    print(f'successfully downloaded: {self.url}')\n",
    "                except:\n",
    "                    print(f'error downloading {self.url} on trial no. {total_tries-remain_tries}')\n",
    "                    remain_tries -= 1\n",
    "                    continue\n",
    "                else:\n",
    "                    break\n",
    "\n",
    "        # call parent class to download\n",
    "        #super().dload_site(overwrite=overwrite, print_msg=print_msg)\n",
    "\n",
    "        # uncompress the downloaded *.z file [for ESESES only]\n",
    "        with ZipFile(self.file, 'r') as fz:\n",
    "            fz.extractall(self.data_dir)\n",
    "        self.file = self.file.strip('.Z')    # update file name\n",
    "        if print_msg:\n",
    "            print(f'... extracted to {self.file:s}')\n",
    "\n",
    "        return self.file\n",
    "\n",
    "\n",
    "    def get_site_lat_lon(self, print_msg=False) -> (float, float):\n",
    "        \"\"\"Get station lat/lon based on processing source.\n",
    "        Retrieve data from the displacement file.\n",
    "\n",
    "        Modifies:   self.lat/lon - float\n",
    "        Returns:    self.lat/lon - float\n",
    "        \"\"\"\n",
    "        # download file if it does not exist\n",
    "        if not os.path.isfile(self.file):\n",
    "            self.dload_site(print_msg=print_msg)\n",
    "\n",
    "        # use the uncompressed data file\n",
    "        if self.file.endswith('.Z'):\n",
    "            self.file = self.file[:-2]\n",
    "\n",
    "        with open(self.file) as f:\n",
    "            lines = f.readlines()\n",
    "\n",
    "            # latitude\n",
    "            lat_line = [x for x in lines if x.startswith('# Latitude')][0].strip('\\n')\n",
    "            self.site_lat = float(lat_line.split()[-1])\n",
    "\n",
    "            # longitude\n",
    "            lon_line = [x for x in lines if x.startswith('# East Longitude')][0].strip('\\n')\n",
    "            self.site_lon = float(lon_line.split()[-1])\n",
    "\n",
    "        # ensure longitude in the range of (-180, 180]\n",
    "        self.site_lon = standardize_longitude(self.site_lon, limit='-180to180')\n",
    "\n",
    "        return self.site_lat, self.site_lon\n",
    "    def _crop_to_date_range(self, start_date: str, end_date: str):\n",
    "        \"\"\"Crop the time-series given the start/end_date in format YYYYMMDD,\n",
    "        and create date_list from dates.\n",
    "        \"\"\"\n",
    "        flag = np.ones(len(self.dates), dtype=bool)\n",
    "        if start_date:\n",
    "            t0 = ptime.date_list2vector([start_date])[0][0]\n",
    "            flag[self.dates < t0] = 0\n",
    "        if end_date:\n",
    "            t1 = ptime.date_list2vector([end_date])[0][0]\n",
    "            flag[self.dates > t1] = 0\n",
    "\n",
    "        self.dates = self.dates[flag]\n",
    "        self.dis_e = self.dis_e[flag]\n",
    "        self.dis_n = self.dis_n[flag]\n",
    "        self.dis_u = self.dis_u[flag]\n",
    "        self.std_e = self.std_e[flag]\n",
    "        self.std_n = self.std_n[flag]\n",
    "        self.std_u = self.std_u[flag]\n",
    "\n",
    "        # create member var: date_list\n",
    "        self.date_list = [x.strftime('%Y%m%d') for x in self.dates]\n",
    "\n",
    "\n",
    "    def read_displacement(self, start_date=None, end_date=None, print_msg=True, display=False):\n",
    "        \"\"\"Read GNSS displacement time-series (defined by start/end_date).\n",
    "\n",
    "        Parameters: start/end_date - str, date in YYYYMMDD format\n",
    "        Returns:    dates          - 1D np.ndarray of datetime.datetime object\n",
    "                    dis_e/n/u      - 1D np.ndarray of displacement in meters in float32\n",
    "                    std_e/n/u      - 1D np.ndarray of displacement STD in meters in float32\n",
    "        \"\"\"\n",
    "        vprint = print if print_msg else lambda *args, **kwargs: None\n",
    "\n",
    "        # download file if it does not exist\n",
    "        if not os.path.isfile(self.file):\n",
    "            self.dload_site(print_msg=print_msg)\n",
    "\n",
    "        # use the uncompressed data file\n",
    "        if self.file.endswith('.Z'):\n",
    "            self.file = self.file[:-2]\n",
    "\n",
    "        # read data file\n",
    "        # use the first 9 cols only, as some epoches miss 10-13 cols: CorrNE/NU/EU, Chi-Squared\n",
    "        #print('reading time and displacement in east/north/vertical direction')\n",
    "        fc = np.loadtxt(self.file, usecols=tuple(range(0,9)))\n",
    "        num_solution = fc.shape[0]\n",
    "\n",
    "        # parse dates\n",
    "        dates = [dt.datetime(int(fc[i, 1]), 1, 1) + dt.timedelta(days=int(fc[i, 2]))\n",
    "                 for i in range(num_solution)]\n",
    "        self.dates = np.array(dates)\n",
    "\n",
    "        # parse displacement data\n",
    "        (self.dis_n,\n",
    "         self.dis_e,\n",
    "         self.dis_u,\n",
    "         self.std_n,\n",
    "         self.std_e,\n",
    "         self.std_u) = fc[:, 3:9].astype(np.float32).T / 1000\n",
    "\n",
    "        # cut out the specified time range\n",
    "        self._crop_to_date_range(start_date, end_date)\n",
    "\n",
    "        # display if requested\n",
    "        if display:\n",
    "            self.plot()\n",
    "\n",
    "        return (self.dates,\n",
    "                self.dis_e, self.dis_n, self.dis_u,\n",
    "                self.std_e, self.std_n, self.std_u)\n"
   ]
  },
  {
   "cell_type": "code",
   "execution_count": 3,
   "id": "5e50c326-d0d6-462a-9e26-35f0d9dfb08a",
   "metadata": {},
   "outputs": [],
   "source": [
    "#InSAR_vert_filename = r'C:\\Users\\bvarugu\\Documents\\merged_UP_GNSS_corrected_timeseries.h5';\n",
    "InSAR_vert_filename = r'C:\\Users\\bvarugu\\Documents\\merged_UP_GNSS_corrected_timeseries_TRE_GNSS.h5'\n",
    "insar_ts_label = \"DWR Vertical\"\n",
    "\n",
    "date_list = timeseries(InSAR_vert_filename).get_date_list();\n",
    "insar_dates = ptime.date_list2vector(date_list)[0];\n",
    "num_date = len(date_list)\n",
    "date0, date1 = (insar_dates[0]-dt.timedelta(days=15)).strftime('%Y%m%d'), (insar_dates[-1]+dt.timedelta(days=15)).strftime('%Y%m%d')\n",
    "\n",
    "\n",
    "vert_ts,insar_metadata = readfile.read(InSAR_vert_filename);\n",
    "\n",
    "coord = ut.coordinate(insar_metadata)"
   ]
  },
  {
   "cell_type": "code",
   "execution_count": null,
   "id": "dd1f7c7e-658f-48ee-af6a-ab22c81b2bb0",
   "metadata": {},
   "outputs": [],
   "source": []
  },
  {
   "cell_type": "code",
   "execution_count": 4,
   "id": "1390a84d-7018-4ed5-a1fc-032fb882a338",
   "metadata": {},
   "outputs": [],
   "source": [
    "Towill_GNSS_filename = r'C:\\Users\\bvarugu\\Documents\\ArcGIS\\Projects\\InSAR_discussion\\Outputs\\GNSS_station_network_TRE_Towill.csv'\n",
    "Towill_GNSS = pd.read_csv(Towill_GNSS_filename,header=0);\n",
    "Towill_GNSS['site'] = Towill_GNSS['CODE'].str[-4:];\n",
    "unused_sites= sorted(list(Towill_GNSS['site'][Towill_GNSS['USED']==0]));\n",
    "used_sites= sorted(list(Towill_GNSS['site'][Towill_GNSS['USED']==1]));\n"
   ]
  },
  {
   "cell_type": "code",
   "execution_count": 5,
   "id": "3f0cd927-6704-48d6-80cd-3fe7a0d4c675",
   "metadata": {
    "scrolled": true
   },
   "outputs": [
    {
     "name": "stdout",
     "output_type": "stream",
     "text": [
      "load 3655 GNSS sites with fields: site lon lat\n",
      "keep sites within SNWE of (32.999169067, 39.0, -123.0, -115.499169667): [797]\n",
      "['7ODM' 'ACSB' 'AGMT' 'ALPP' 'ALTH' 'ANA1' 'AOA1' 'AR27' 'AR53' 'ARGU'\n",
      " 'ARM1' 'ARM2' 'ASHM' 'AVRY' 'AZRY' 'AZU1' 'BALD' 'BAR1' 'BATM' 'BBDM'\n",
      " 'BBRY' 'BCWR' 'BEAT' 'BEMT' 'BEPK' 'BFLD' 'BFSH' 'BGIS' 'BILL' 'BKAP'\n",
      " 'BKMS' 'BKR1' 'BKR2' 'BLSA' 'BMHL' 'BMRY' 'BOMG' 'BRAN' 'BRI2' 'BRIB'\n",
      " 'BRPK' 'BSRY' 'BTDM' 'BUEG' 'BULL' 'BUST' 'BVPP' 'CA99' 'CACT' 'CAM5'\n",
      " 'CAND' 'CAP5' 'CARH' 'CARR' 'CASA' 'CASE' 'CAT1' 'CAT2' 'CAT3' 'CBHS'\n",
      " 'CCCC' 'CCCO' 'CCCS' 'CCST' 'CDMT' 'CGDM' 'CHAB' 'CHIL' 'CHLO' 'CHMS'\n",
      " 'CHOW' 'CIRX' 'CIT1' 'CJMG' 'CJMS' 'CJVG' 'CLAR' 'CLBD' 'CMBB' 'CMOD'\n",
      " 'CMP9' 'CNDR' 'CNPP' 'COPR' 'COSO' 'COTD' 'CPBN' 'CRAM' 'CRAT' 'CRBT'\n",
      " 'CRCN' 'CRFP' 'CRGG' 'CRHS' 'CRRS' 'CRU1' 'CSCI' 'CSDH' 'CSN1' 'CSST'\n",
      " 'CTDM' 'CTMS' 'CUHS' 'CVHS' 'DAM1' 'DAM2' 'DAM3' 'DDMN' 'DECH' 'DHLG'\n",
      " 'DIAB' 'DIXN' 'DLNO' 'DLUZ' 'DOND' 'DONO' 'DREW' 'DS13' 'DSHS' 'DSME'\n",
      " 'DSSC' 'DUBP' 'DVLE' 'DVLS' 'DVLW' 'DVNE' 'DVNW' 'DVPB' 'DVSE' 'DVSW'\n",
      " 'DYER' 'DYH2' 'DYHS' 'EBMD' 'ECCO' 'ECFS' 'EDPP' 'ELLY' 'ELSC' 'ELSG'\n",
      " 'ELTN' 'ELTS' 'ERRG' 'ESE2' 'ESRE' 'ESRW' 'EWPP' 'FGST' 'FHOG' 'FMTP'\n",
      " 'FMVT' 'FOXG' 'FVPK' 'FXHS' 'FZHS' 'GABB' 'GDEC' 'GHRP' 'GLRS' 'GMAG'\n",
      " 'GMRC' 'GOL2' 'GOLD' 'GR8R' 'GRN5' 'GVRS' 'HAR7' 'HARV' 'HBCO' 'HCMN'\n",
      " 'HELB' 'HELL' 'HELP' 'HIVI' 'HMTG' 'HNPS' 'HOGS' 'HOL3' 'HOLC' 'HOLP'\n",
      " 'HOTK' 'HUNT' 'HVYS' 'I40A' 'IBEX' 'IDOG' 'IDQG' 'ISLK' 'JLN5' 'JNHG'\n",
      " 'JNPR' 'JOHN' 'JPLM' 'JRSC' 'KBRC' 'KDCB' 'KDL1' 'KNOL' 'KRAC' 'KYVW'\n",
      " 'LAND' 'LAPC' 'LASC' 'LBC1' 'LBC2' 'LBCH' 'LDES' 'LDSW' 'LEBC' 'LEEP'\n",
      " 'LEMA' 'LFRS' 'LGWD' 'LICE' 'LINC' 'LINJ' 'LITT' 'LJRN' 'LKHG' 'LL01'\n",
      " 'LLAS' 'LMHG' 'LMSG' 'LNC1' 'LNC2' 'LNCO' 'LNMT' 'LOMP' 'LONG' 'LORS'\n",
      " 'LOWS' 'LPCG' 'LPHS' 'LRA1' 'LRA3' 'LRRG' 'LUTZ' 'LVMS' 'MASW' 'MAT2'\n",
      " 'MATH' 'MCCM' 'MEE1' 'MEE2' 'MERC' 'MHCB' 'MHDL' 'MHMS' 'MIDA' 'MIG1'\n",
      " 'MILP' 'MINS' 'MJPK' 'MLFP' 'MNMC' 'MNRC' 'MOLA' 'MONB' 'MPWD' 'MRCD'\n",
      " 'MRDM' 'MRRY' 'MSCG' 'MSHP' 'MSOB' 'MTA1' 'MTGG' 'MTWK' 'MULN' 'MUSB'\n",
      " 'MUSD' 'MVFD' 'MWTP' 'NBPS' 'NEVA' 'NHRG' 'NOCO' 'NOPE' 'NOPK' 'OAES'\n",
      " 'OAT2' 'OCSD' 'OEOC' 'OGHS' 'OHLN' 'OPBL' 'OPCL' 'OPCP' 'OPCX' 'OPRD'\n",
      " 'ORC5' 'ORES' 'ORMT' 'OVLS' 'OXMT' 'OXYC' 'OZST' 'P056' 'P067' 'P091'\n",
      " 'P092' 'P093' 'P094' 'P132' 'P133' 'P134' 'P135' 'P136' 'P140' 'P143'\n",
      " 'P171' 'P172' 'P173' 'P174' 'P175' 'P176' 'P177' 'P178' 'P180' 'P181'\n",
      " 'P193' 'P194' 'P195' 'P196' 'P197' 'P198' 'P199' 'P200' 'P201' 'P202'\n",
      " 'P203' 'P204' 'P206' 'P209' 'P210' 'P211' 'P212' 'P213' 'P214' 'P215'\n",
      " 'P216' 'P217' 'P218' 'P219' 'P220' 'P221' 'P222' 'P223' 'P224' 'P225'\n",
      " 'P226' 'P227' 'P228' 'P229' 'P230' 'P231' 'P232' 'P233' 'P234' 'P235'\n",
      " 'P236' 'P237' 'P238' 'P239' 'P240' 'P241' 'P242' 'P243' 'P244' 'P245'\n",
      " 'P247' 'P248' 'P249' 'P250' 'P251' 'P252' 'P253' 'P254' 'P255' 'P256'\n",
      " 'P257' 'P258' 'P259' 'P261' 'P262' 'P263' 'P264' 'P265' 'P266' 'P267'\n",
      " 'P268' 'P269' 'P271' 'P273' 'P274' 'P275' 'P276' 'P277' 'P278' 'P279'\n",
      " 'P280' 'P281' 'P282' 'P283' 'P284' 'P285' 'P286' 'P287' 'P288' 'P289'\n",
      " 'P290' 'P291' 'P292' 'P293' 'P294' 'P295' 'P296' 'P297' 'P298' 'P299'\n",
      " 'P300' 'P301' 'P302' 'P303' 'P304' 'P305' 'P306' 'P307' 'P308' 'P309'\n",
      " 'P310' 'P311' 'P462' 'P463' 'P464' 'P465' 'P466' 'P467' 'P468' 'P469'\n",
      " 'P470' 'P471' 'P474' 'P476' 'P477' 'P478' 'P479' 'P482' 'P483' 'P484'\n",
      " 'P485' 'P486' 'P487' 'P488' 'P489' 'P490' 'P491' 'P495' 'P504' 'P505'\n",
      " 'P506' 'P507' 'P512' 'P513' 'P514' 'P515' 'P516' 'P517' 'P518' 'P519'\n",
      " 'P520' 'P521' 'P522' 'P523' 'P525' 'P526' 'P527' 'P528' 'P529' 'P530'\n",
      " 'P531' 'P532' 'P533' 'P534' 'P535' 'P536' 'P537' 'P538' 'P539' 'P540'\n",
      " 'P541' 'P542' 'P543' 'P544' 'P545' 'P546' 'P547' 'P548' 'P549' 'P550'\n",
      " 'P551' 'P552' 'P553' 'P554' 'P555' 'P556' 'P557' 'P558' 'P559' 'P560'\n",
      " 'P561' 'P562' 'P563' 'P564' 'P565' 'P566' 'P567' 'P568' 'P569' 'P570'\n",
      " 'P571' 'P572' 'P573' 'P574' 'P575' 'P576' 'P577' 'P578' 'P579' 'P580'\n",
      " 'P581' 'P582' 'P583' 'P584' 'P585' 'P586' 'P587' 'P588' 'P589' 'P590'\n",
      " 'P591' 'P592' 'P593' 'P594' 'P595' 'P596' 'P597' 'P598' 'P599' 'P600'\n",
      " 'P601' 'P602' 'P603' 'P604' 'P605' 'P606' 'P607' 'P608' 'P609' 'P610'\n",
      " 'P611' 'P612' 'P613' 'P615' 'P616' 'P617' 'P618' 'P619' 'P620' 'P621'\n",
      " 'P627' 'P628' 'P629' 'P630' 'P631' 'P632' 'P633' 'P634' 'P635' 'P636'\n",
      " 'P637' 'P638' 'P639' 'P640' 'P641' 'P642' 'P643' 'P644' 'P645' 'P646'\n",
      " 'P647' 'P648' 'P649' 'P650' 'P651' 'P652' 'P653' 'P654' 'P723' 'P724'\n",
      " 'P725' 'P726' 'P727' 'P729' 'P740' 'P741' 'P742' 'P781' 'P782' 'P787'\n",
      " 'P788' 'P789' 'P790' 'P795' 'P797' 'P799' 'P800' 'P808' 'P809' 'P810'\n",
      " 'P811' 'P812' 'PBHR' 'PBL1' 'PBPP' 'PEA1' 'PEA2' 'PERL' 'PHIN' 'PHLB'\n",
      " 'PIN1' 'PIN2' 'PKDB' 'PKRD' 'PLSB' 'PMHS' 'PMOB' 'PMTN' 'POBG' 'POIN'\n",
      " 'POMM' 'POTB' 'PPBF' 'PPT1' 'PPT5' 'PSAP' 'PSDM' 'PTRO' 'PVE3' 'PVEP'\n",
      " 'PVHS' 'PVRS' 'QCY2' 'QHTP' 'RAAP' 'RAGG' 'RAIL' 'RAMT' 'RAPT' 'RBRU'\n",
      " 'RCA2' 'RCSC' 'RDMT' 'RDOM' 'RELA' 'REP2' 'REP3' 'REP4' 'REPO' 'RHCG'\n",
      " 'RHCL' 'RKMG' 'RMVJ' 'RNCH' 'ROCH' 'ROCK' 'ROCP' 'ROGE' 'RSTP' 'RSVY'\n",
      " 'RTHS' 'RUMP' 'RYAN' 'S300' 'SACY' 'SAOB' 'SAWC' 'SBCC' 'SBR5' 'SBRB'\n",
      " 'SBRN' 'SCCP' 'SCIA' 'SCMS' 'SDHL' 'SFDM' 'SGDM' 'SGHS' 'SGPS' 'SHN5'\n",
      " 'SHOS' 'SHP5' 'SHRC' 'SIBE' 'SILK' 'SIMM' 'SJB5' 'SKUL' 'SKYB' 'SLAC'\n",
      " 'SLHG' 'SLMS' 'SLN5' 'SMYC' 'SNHS' 'SNI1' 'SNOG' 'SODB' 'SOMT' 'SONG'\n",
      " 'SPK1' 'SPMS' 'SRB1' 'SRS1' 'STRI' 'SUAA' 'SVIN' 'SWEP' 'SYNG' 'T3RP'\n",
      " 'TABL' 'TABV' 'TAFT' 'TATE' 'TBLP' 'TEHA' 'THAL' 'THCP' 'THM2' 'THMG'\n",
      " 'THMS' 'TIBB' 'TILC' 'TIVA' 'TJRN' 'TMAP' 'TONO' 'TORP' 'TOST' 'TRAK'\n",
      " 'TRCP' 'TRLK' 'TROY' 'TWMS' 'UCD1' 'UCLP' 'UCSB' 'UCSF' 'USC1' 'USGC'\n",
      " 'USLO' 'VAN1' 'VAN5' 'VCST' 'VCVL' 'VDCY' 'VIMT' 'VINE' 'VINZ' 'VNCO'\n",
      " 'VNCX' 'VNDP' 'VNPS' 'VONS' 'VTIS' 'VTOR' 'VYAS' 'WASG' 'WATC' 'WCHS'\n",
      " 'WGPP' 'WHC1' 'WHYT' 'WIDC' 'WIN2' 'WINT' 'WKPK' 'WLSN' 'WMAP' 'WMDG'\n",
      " 'WNRA' 'WOMT' 'WRHS' 'WWFG' 'WWMT' 'ZOA1' 'ZOA2']\n",
      "Final number of sites: 672\n"
     ]
    }
   ],
   "source": [
    "gnss_source = 'ESESES';\n",
    "filter_by_TRE = True;\n",
    "(S,N,W,E) = ut.four_corners(insar_metadata)\n",
    "ymin, ymax = 0, int(insar_metadata['LENGTH'])-1;\n",
    "xmin, xmax = 0, int(insar_metadata['WIDTH'])-1;\n",
    "\n",
    "Towill_sites= unused_sites + used_sites;\n",
    "if filter_by_TRE==True:\n",
    "    gnss_names,gnss_lats, gnss_lons = gnss.search_gnss(SNWE=(S,N,W,E), source=gnss_source,start_date=date0, end_date=date1);\n",
    "    in_Towill = [i for i,gnss in enumerate(gnss_names) if gnss in used_sites];\n",
    "    out_Towill = [i for i,gnss in enumerate(gnss_names) if gnss in unused_sites];\n",
    "    in_site_names, in_site_lats, in_site_lons = gnss_names[in_Towill],gnss_lats[in_Towill],gnss_lons[in_Towill];\n",
    "    out_site_names, out_site_lats, out_site_lons = gnss_names[out_Towill],gnss_lats[out_Towill],gnss_lons[out_Towill];\n",
    "    site_names = np.array(list(in_site_names) + list(out_site_names)); \n",
    "else:\n",
    "    site_names, site_lats, site_lons = gnss.search_gnss(SNWE=(S,N,W,E), source=gnss_source,start_date=date0, end_date=date1);\n",
    "print('Final number of sites:',len(site_names))"
   ]
  },
  {
   "cell_type": "code",
   "execution_count": 6,
   "id": "d06895fd-59f8-4d03-bc8e-689a07db4a5d",
   "metadata": {},
   "outputs": [],
   "source": [
    "gnss_dir = os.path.join(os.path.dirname(InSAR_vert_filename),'GNSS_ESESES');\n",
    "os.makedirs(gnss_dir,exist_ok=True)\n"
   ]
  },
  {
   "cell_type": "code",
   "execution_count": 7,
   "id": "9d968483-a814-43bb-b25f-17b6173c81d5",
   "metadata": {},
   "outputs": [
    {
     "name": "stdout",
     "output_type": "stream",
     "text": [
      "347\n"
     ]
    }
   ],
   "source": [
    "TRE_GNSS_file_list = glob.glob(r'C:\\Users\\bvarugu\\Documents\\ArcGIS\\Projects\\TRE_Results_view\\Outputs\\VERT_*_UNR_GNSS_intersect.csv');\n",
    "\n",
    "dfs = [];\n",
    "for file in TRE_GNSS_file_list:\n",
    "    df = pd.read_csv(file,header=0);\n",
    "    dfs.append(df)\n",
    "TRE_GNSS = pd.concat(dfs,ignore_index=True);\n",
    "(S,N,W,E) = ut.four_corners(insar_metadata)\n",
    "TRE_GNSS = TRE_GNSS[(TRE_GNSS['LAT'] >= S) & (TRE_GNSS['LAT'] <= N) &\n",
    "                              (TRE_GNSS['LON'] >= W) & (TRE_GNSS['LON'] <= E)];\n",
    "TRE_GNSS.columns = [col[1:] if col.startswith('D') else col for col in TRE_GNSS.columns];\n",
    "TRE_datelist = [col for col in TRE_GNSS.columns if col.isdigit()];filtered_TRE_datelist= [col for col in TRE_datelist if date0<= col <=date1];\n",
    "TRE_GNSS_reduced = TRE_GNSS[filtered_TRE_datelist+['Sta']];\n",
    "TRE_GNSS_reduced = TRE_GNSS_reduced.reset_index();\n",
    "TRE_GNSS_grouped = (TRE_GNSS_reduced.groupby('Sta', as_index= False).mean(numeric_only=True))\n",
    "TRE_dates = ptime.date_list2vector(filtered_TRE_datelist)[0];\n",
    "TRE_site_names= np.array(TRE_GNSS_grouped['Sta']);\n",
    "\n",
    "print(len(TRE_site_names))"
   ]
  },
  {
   "cell_type": "code",
   "execution_count": 8,
   "id": "30d43e74-9d13-4c62-99b9-5e7d772223ca",
   "metadata": {},
   "outputs": [],
   "source": [
    "def resample_to_monthly_date(dialy_dis,dialy_dates,monthly_dates):\n",
    "    \n",
    "    monthly_dis = []\n",
    "    \n",
    "    # Loop over each date\n",
    "    for date in monthly_dates:\n",
    "        # Define the ±15-day window around the current InSAR date\n",
    "        start_date = date - dt.timedelta(days=15)\n",
    "        end_date = date + dt.timedelta(days=15)\n",
    "        \n",
    "        # Find GNSS measurements within the range\n",
    "        in_window = (dialy_dates >= start_date) & (dialy_dates <= end_date)\n",
    "        \n",
    "        # Extract GNSS displacements in the window\n",
    "        disp_in_window = dialy_dis[in_window]\n",
    "        \n",
    "        # Calculate the mean for the window, ignoring NaNs\n",
    "        mean_displacement = np.nanmean(disp_in_window) if len(in_window) > 0 else np.nan\n",
    "        \n",
    "        # Append the mean displacement to the results\n",
    "        monthly_dis.append(mean_displacement)\n",
    "    \n",
    "    return np.array(monthly_dis)\n"
   ]
  },
  {
   "cell_type": "code",
   "execution_count": 41,
   "id": "ded7b95f-2a3a-4f6f-ab76-39893b409935",
   "metadata": {},
   "outputs": [
    {
     "name": "stdout",
     "output_type": "stream",
     "text": [
      "[>                        2%                       ] BEMT 11/672    0s /    20s"
     ]
    },
    {
     "name": "stderr",
     "output_type": "stream",
     "text": [
      "C:\\Users\\bvarugu\\AppData\\Local\\Temp\\ipykernel_16212\\1669315176.py:18: RuntimeWarning: Mean of empty slice\n",
      "  mean_displacement = np.nanmean(disp_in_window) if len(in_window) > 0 else np.nan\n",
      "C:\\Users\\bvarugu\\AppData\\Local\\Temp\\ipykernel_16212\\1669315176.py:18: RuntimeWarning: Mean of empty slice\n",
      "  mean_displacement = np.nanmean(disp_in_window) if len(in_window) > 0 else np.nan\n"
     ]
    },
    {
     "name": "stdout",
     "output_type": "stream",
     "text": [
      "[>                        2%                       ] BGIS 15/672    0s /    36s"
     ]
    },
    {
     "name": "stderr",
     "output_type": "stream",
     "text": [
      "C:\\Users\\bvarugu\\AppData\\Local\\Temp\\ipykernel_16212\\1669315176.py:18: RuntimeWarning: Mean of empty slice\n",
      "  mean_displacement = np.nanmean(disp_in_window) if len(in_window) > 0 else np.nan\n"
     ]
    },
    {
     "name": "stdout",
     "output_type": "stream",
     "text": [
      "[=>                       3%                       ] BUEG 23/672    1s /    36s"
     ]
    },
    {
     "name": "stderr",
     "output_type": "stream",
     "text": [
      "C:\\Users\\bvarugu\\AppData\\Local\\Temp\\ipykernel_16212\\1669315176.py:18: RuntimeWarning: Mean of empty slice\n",
      "  mean_displacement = np.nanmean(disp_in_window) if len(in_window) > 0 else np.nan\n"
     ]
    },
    {
     "name": "stdout",
     "output_type": "stream",
     "text": [
      "[=>                       5%                       ] CHIL 31/672    2s /    38s"
     ]
    },
    {
     "name": "stderr",
     "output_type": "stream",
     "text": [
      "C:\\Users\\bvarugu\\AppData\\Local\\Temp\\ipykernel_16212\\1669315176.py:18: RuntimeWarning: Mean of empty slice\n",
      "  mean_displacement = np.nanmean(disp_in_window) if len(in_window) > 0 else np.nan\n",
      "C:\\Users\\bvarugu\\AppData\\Local\\Temp\\ipykernel_16212\\1669315176.py:18: RuntimeWarning: Mean of empty slice\n",
      "  mean_displacement = np.nanmean(disp_in_window) if len(in_window) > 0 else np.nan\n"
     ]
    },
    {
     "name": "stdout",
     "output_type": "stream",
     "text": [
      "[=>                       5%                       ] CLBD 36/672    2s /    46s"
     ]
    },
    {
     "name": "stderr",
     "output_type": "stream",
     "text": [
      "C:\\Users\\bvarugu\\AppData\\Local\\Temp\\ipykernel_16212\\1669315176.py:18: RuntimeWarning: Mean of empty slice\n",
      "  mean_displacement = np.nanmean(disp_in_window) if len(in_window) > 0 else np.nan\n"
     ]
    },
    {
     "name": "stdout",
     "output_type": "stream",
     "text": [
      "[===>                     9%                       ] DONO 60/672    3s /    37s"
     ]
    },
    {
     "name": "stderr",
     "output_type": "stream",
     "text": [
      "C:\\Users\\bvarugu\\AppData\\Local\\Temp\\ipykernel_16212\\1669315176.py:18: RuntimeWarning: Mean of empty slice\n",
      "  mean_displacement = np.nanmean(disp_in_window) if len(in_window) > 0 else np.nan\n"
     ]
    },
    {
     "name": "stdout",
     "output_type": "stream",
     "text": [
      "[===>                     9%                       ] DYH2 63/672    3s /    38s"
     ]
    },
    {
     "name": "stderr",
     "output_type": "stream",
     "text": [
      "C:\\Users\\bvarugu\\AppData\\Local\\Temp\\ipykernel_16212\\1669315176.py:18: RuntimeWarning: Mean of empty slice\n",
      "  mean_displacement = np.nanmean(disp_in_window) if len(in_window) > 0 else np.nan\n"
     ]
    },
    {
     "name": "stdout",
     "output_type": "stream",
     "text": [
      "[====>                   10%                       ] EWPP 70/672    4s /    38s"
     ]
    },
    {
     "name": "stderr",
     "output_type": "stream",
     "text": [
      "C:\\Users\\bvarugu\\AppData\\Local\\Temp\\ipykernel_16212\\1669315176.py:18: RuntimeWarning: Mean of empty slice\n",
      "  mean_displacement = np.nanmean(disp_in_window) if len(in_window) > 0 else np.nan\n",
      "C:\\Users\\bvarugu\\AppData\\Local\\Temp\\ipykernel_16212\\1669315176.py:18: RuntimeWarning: Mean of empty slice\n",
      "  mean_displacement = np.nanmean(disp_in_window) if len(in_window) > 0 else np.nan\n",
      "C:\\Users\\bvarugu\\AppData\\Local\\Temp\\ipykernel_16212\\1669315176.py:18: RuntimeWarning: Mean of empty slice\n",
      "  mean_displacement = np.nanmean(disp_in_window) if len(in_window) > 0 else np.nan\n"
     ]
    },
    {
     "name": "stdout",
     "output_type": "stream",
     "text": [
      "[=====>                  12%                       ] GLRS 79/672    4s /    35s"
     ]
    },
    {
     "name": "stderr",
     "output_type": "stream",
     "text": [
      "C:\\Users\\bvarugu\\AppData\\Local\\Temp\\ipykernel_16212\\1669315176.py:18: RuntimeWarning: Mean of empty slice\n",
      "  mean_displacement = np.nanmean(disp_in_window) if len(in_window) > 0 else np.nan\n"
     ]
    },
    {
     "name": "stdout",
     "output_type": "stream",
     "text": [
      "[=====>                  13%                       ] HIVI 86/672    5s /    34s"
     ]
    },
    {
     "name": "stderr",
     "output_type": "stream",
     "text": [
      "C:\\Users\\bvarugu\\AppData\\Local\\Temp\\ipykernel_16212\\1669315176.py:18: RuntimeWarning: Mean of empty slice\n",
      "  mean_displacement = np.nanmean(disp_in_window) if len(in_window) > 0 else np.nan\n"
     ]
    },
    {
     "name": "stdout",
     "output_type": "stream",
     "text": [
      "[======>                 14%                       ] JPLM 97/672    5s /    33s"
     ]
    },
    {
     "name": "stderr",
     "output_type": "stream",
     "text": [
      "C:\\Users\\bvarugu\\AppData\\Local\\Temp\\ipykernel_16212\\1669315176.py:18: RuntimeWarning: Mean of empty slice\n",
      "  mean_displacement = np.nanmean(disp_in_window) if len(in_window) > 0 else np.nan\n"
     ]
    },
    {
     "name": "stdout",
     "output_type": "stream",
     "text": [
      "[=======>                15%                       ] LBC1 104/672    5s /    33s"
     ]
    },
    {
     "name": "stderr",
     "output_type": "stream",
     "text": [
      "C:\\Users\\bvarugu\\AppData\\Local\\Temp\\ipykernel_16212\\1669315176.py:18: RuntimeWarning: Mean of empty slice\n",
      "  mean_displacement = np.nanmean(disp_in_window) if len(in_window) > 0 else np.nan\n"
     ]
    },
    {
     "name": "stdout",
     "output_type": "stream",
     "text": [
      "[=======>                17%                       ] LINJ 111/672    6s /    30s"
     ]
    },
    {
     "name": "stderr",
     "output_type": "stream",
     "text": [
      "C:\\Users\\bvarugu\\AppData\\Local\\Temp\\ipykernel_16212\\1669315176.py:18: RuntimeWarning: Mean of empty slice\n",
      "  mean_displacement = np.nanmean(disp_in_window) if len(in_window) > 0 else np.nan\n"
     ]
    },
    {
     "name": "stdout",
     "output_type": "stream",
     "text": [
      "[=======>                17%                       ] LOMP 116/672    6s /    31s"
     ]
    },
    {
     "name": "stderr",
     "output_type": "stream",
     "text": [
      "C:\\Users\\bvarugu\\AppData\\Local\\Temp\\ipykernel_16212\\1669315176.py:18: RuntimeWarning: Mean of empty slice\n",
      "  mean_displacement = np.nanmean(disp_in_window) if len(in_window) > 0 else np.nan\n",
      "C:\\Users\\bvarugu\\AppData\\Local\\Temp\\ipykernel_16212\\1669315176.py:18: RuntimeWarning: Mean of empty slice\n",
      "  mean_displacement = np.nanmean(disp_in_window) if len(in_window) > 0 else np.nan\n"
     ]
    },
    {
     "name": "stdout",
     "output_type": "stream",
     "text": [
      "[========>               18%                       ] LRRG 121/672    6s /    31s"
     ]
    },
    {
     "name": "stderr",
     "output_type": "stream",
     "text": [
      "C:\\Users\\bvarugu\\AppData\\Local\\Temp\\ipykernel_16212\\1669315176.py:18: RuntimeWarning: Mean of empty slice\n",
      "  mean_displacement = np.nanmean(disp_in_window) if len(in_window) > 0 else np.nan\n",
      "C:\\Users\\bvarugu\\AppData\\Local\\Temp\\ipykernel_16212\\1669315176.py:18: RuntimeWarning: Mean of empty slice\n",
      "  mean_displacement = np.nanmean(disp_in_window) if len(in_window) > 0 else np.nan\n"
     ]
    },
    {
     "name": "stdout",
     "output_type": "stream",
     "text": [
      "[=========>              20%                       ] MNRC 132/672    7s /    29s"
     ]
    },
    {
     "name": "stderr",
     "output_type": "stream",
     "text": [
      "C:\\Users\\bvarugu\\AppData\\Local\\Temp\\ipykernel_16212\\1669315176.py:18: RuntimeWarning: Mean of empty slice\n",
      "  mean_displacement = np.nanmean(disp_in_window) if len(in_window) > 0 else np.nan\n"
     ]
    },
    {
     "name": "stdout",
     "output_type": "stream",
     "text": [
      "[=========>              21%                       ] MWTP 138/672    7s /    28s"
     ]
    },
    {
     "name": "stderr",
     "output_type": "stream",
     "text": [
      "C:\\Users\\bvarugu\\AppData\\Local\\Temp\\ipykernel_16212\\1669315176.py:18: RuntimeWarning: Mean of empty slice\n",
      "  mean_displacement = np.nanmean(disp_in_window) if len(in_window) > 0 else np.nan\n",
      "C:\\Users\\bvarugu\\AppData\\Local\\Temp\\ipykernel_16212\\1669315176.py:18: RuntimeWarning: Mean of empty slice\n",
      "  mean_displacement = np.nanmean(disp_in_window) if len(in_window) > 0 else np.nan\n"
     ]
    },
    {
     "name": "stdout",
     "output_type": "stream",
     "text": [
      "[===========>            23%                       ] P056 153/672    8s /    29s"
     ]
    },
    {
     "name": "stderr",
     "output_type": "stream",
     "text": [
      "C:\\Users\\bvarugu\\AppData\\Local\\Temp\\ipykernel_16212\\1669315176.py:18: RuntimeWarning: Mean of empty slice\n",
      "  mean_displacement = np.nanmean(disp_in_window) if len(in_window) > 0 else np.nan\n",
      "C:\\Users\\bvarugu\\AppData\\Local\\Temp\\ipykernel_16212\\1669315176.py:18: RuntimeWarning: Mean of empty slice\n",
      "  mean_displacement = np.nanmean(disp_in_window) if len(in_window) > 0 else np.nan\n"
     ]
    },
    {
     "name": "stdout",
     "output_type": "stream",
     "text": [
      "[===========>            24%                       ] P171 160/672    8s /    28s"
     ]
    },
    {
     "name": "stderr",
     "output_type": "stream",
     "text": [
      "C:\\Users\\bvarugu\\AppData\\Local\\Temp\\ipykernel_16212\\1669315176.py:18: RuntimeWarning: Mean of empty slice\n",
      "  mean_displacement = np.nanmean(disp_in_window) if len(in_window) > 0 else np.nan\n"
     ]
    },
    {
     "name": "stdout",
     "output_type": "stream",
     "text": [
      "[============>           26%                       ] P202 175/672    9s /    26s"
     ]
    },
    {
     "name": "stderr",
     "output_type": "stream",
     "text": [
      "C:\\Users\\bvarugu\\AppData\\Local\\Temp\\ipykernel_16212\\1669315176.py:18: RuntimeWarning: Mean of empty slice\n",
      "  mean_displacement = np.nanmean(disp_in_window) if len(in_window) > 0 else np.nan\n",
      "C:\\Users\\bvarugu\\AppData\\Local\\Temp\\ipykernel_16212\\1669315176.py:18: RuntimeWarning: Mean of empty slice\n",
      "  mean_displacement = np.nanmean(disp_in_window) if len(in_window) > 0 else np.nan\n"
     ]
    },
    {
     "name": "stdout",
     "output_type": "stream",
     "text": [
      "[=============>          28%                       ] P217 186/672    9s /    25s"
     ]
    },
    {
     "name": "stderr",
     "output_type": "stream",
     "text": [
      "C:\\Users\\bvarugu\\AppData\\Local\\Temp\\ipykernel_16212\\1669315176.py:18: RuntimeWarning: Mean of empty slice\n",
      "  mean_displacement = np.nanmean(disp_in_window) if len(in_window) > 0 else np.nan\n"
     ]
    },
    {
     "name": "stdout",
     "output_type": "stream",
     "text": [
      "[=============>          29%                       ] P228 194/672   10s /    25s"
     ]
    },
    {
     "name": "stderr",
     "output_type": "stream",
     "text": [
      "C:\\Users\\bvarugu\\AppData\\Local\\Temp\\ipykernel_16212\\1669315176.py:18: RuntimeWarning: Mean of empty slice\n",
      "  mean_displacement = np.nanmean(disp_in_window) if len(in_window) > 0 else np.nan\n"
     ]
    },
    {
     "name": "stdout",
     "output_type": "stream",
     "text": [
      "[==============>         30%                       ] P241 201/672   10s /    24s"
     ]
    },
    {
     "name": "stderr",
     "output_type": "stream",
     "text": [
      "C:\\Users\\bvarugu\\AppData\\Local\\Temp\\ipykernel_16212\\1669315176.py:18: RuntimeWarning: Mean of empty slice\n",
      "  mean_displacement = np.nanmean(disp_in_window) if len(in_window) > 0 else np.nan\n"
     ]
    },
    {
     "name": "stdout",
     "output_type": "stream",
     "text": [
      "[==============>         30%                       ] P244 204/672   10s /    25s"
     ]
    },
    {
     "name": "stderr",
     "output_type": "stream",
     "text": [
      "C:\\Users\\bvarugu\\AppData\\Local\\Temp\\ipykernel_16212\\1669315176.py:18: RuntimeWarning: Mean of empty slice\n",
      "  mean_displacement = np.nanmean(disp_in_window) if len(in_window) > 0 else np.nan\n",
      "C:\\Users\\bvarugu\\AppData\\Local\\Temp\\ipykernel_16212\\1669315176.py:18: RuntimeWarning: Mean of empty slice\n",
      "  mean_displacement = np.nanmean(disp_in_window) if len(in_window) > 0 else np.nan\n"
     ]
    },
    {
     "name": "stdout",
     "output_type": "stream",
     "text": [
      "[===============>        32%                       ] P262 215/672   11s /    24s"
     ]
    },
    {
     "name": "stderr",
     "output_type": "stream",
     "text": [
      "C:\\Users\\bvarugu\\AppData\\Local\\Temp\\ipykernel_16212\\1669315176.py:18: RuntimeWarning: Mean of empty slice\n",
      "  mean_displacement = np.nanmean(disp_in_window) if len(in_window) > 0 else np.nan\n",
      "C:\\Users\\bvarugu\\AppData\\Local\\Temp\\ipykernel_16212\\1669315176.py:18: RuntimeWarning: Mean of empty slice\n",
      "  mean_displacement = np.nanmean(disp_in_window) if len(in_window) > 0 else np.nan\n"
     ]
    },
    {
     "name": "stdout",
     "output_type": "stream",
     "text": [
      "[===============>        33%                       ] P274 221/672   11s /    23s"
     ]
    },
    {
     "name": "stderr",
     "output_type": "stream",
     "text": [
      "C:\\Users\\bvarugu\\AppData\\Local\\Temp\\ipykernel_16212\\1669315176.py:18: RuntimeWarning: Mean of empty slice\n",
      "  mean_displacement = np.nanmean(disp_in_window) if len(in_window) > 0 else np.nan\n",
      "C:\\Users\\bvarugu\\AppData\\Local\\Temp\\ipykernel_16212\\1669315176.py:18: RuntimeWarning: Mean of empty slice\n",
      "  mean_displacement = np.nanmean(disp_in_window) if len(in_window) > 0 else np.nan\n"
     ]
    },
    {
     "name": "stdout",
     "output_type": "stream",
     "text": [
      "[================>       34%                       ] P282 228/672   11s /    23s"
     ]
    },
    {
     "name": "stderr",
     "output_type": "stream",
     "text": [
      "C:\\Users\\bvarugu\\AppData\\Local\\Temp\\ipykernel_16212\\1669315176.py:18: RuntimeWarning: Mean of empty slice\n",
      "  mean_displacement = np.nanmean(disp_in_window) if len(in_window) > 0 else np.nan\n",
      "C:\\Users\\bvarugu\\AppData\\Local\\Temp\\ipykernel_16212\\1669315176.py:18: RuntimeWarning: Mean of empty slice\n",
      "  mean_displacement = np.nanmean(disp_in_window) if len(in_window) > 0 else np.nan\n"
     ]
    },
    {
     "name": "stdout",
     "output_type": "stream",
     "text": [
      "[=================>      35%                       ] P293 236/672   12s /    22s"
     ]
    },
    {
     "name": "stderr",
     "output_type": "stream",
     "text": [
      "C:\\Users\\bvarugu\\AppData\\Local\\Temp\\ipykernel_16212\\1669315176.py:18: RuntimeWarning: Mean of empty slice\n",
      "  mean_displacement = np.nanmean(disp_in_window) if len(in_window) > 0 else np.nan\n"
     ]
    },
    {
     "name": "stdout",
     "output_type": "stream",
     "text": [
      "[=================>      36%                       ] P302 241/672   12s /    22s"
     ]
    },
    {
     "name": "stderr",
     "output_type": "stream",
     "text": [
      "C:\\Users\\bvarugu\\AppData\\Local\\Temp\\ipykernel_16212\\1669315176.py:18: RuntimeWarning: Mean of empty slice\n",
      "  mean_displacement = np.nanmean(disp_in_window) if len(in_window) > 0 else np.nan\n"
     ]
    },
    {
     "name": "stdout",
     "output_type": "stream",
     "text": [
      "[=================>      37%                       ] P310 249/672   12s /    22s"
     ]
    },
    {
     "name": "stderr",
     "output_type": "stream",
     "text": [
      "C:\\Users\\bvarugu\\AppData\\Local\\Temp\\ipykernel_16212\\1669315176.py:18: RuntimeWarning: Mean of empty slice\n",
      "  mean_displacement = np.nanmean(disp_in_window) if len(in_window) > 0 else np.nan\n",
      "C:\\Users\\bvarugu\\AppData\\Local\\Temp\\ipykernel_16212\\1669315176.py:18: RuntimeWarning: Mean of empty slice\n",
      "  mean_displacement = np.nanmean(disp_in_window) if len(in_window) > 0 else np.nan\n",
      "C:\\Users\\bvarugu\\AppData\\Local\\Temp\\ipykernel_16212\\1669315176.py:18: RuntimeWarning: Mean of empty slice\n",
      "  mean_displacement = np.nanmean(disp_in_window) if len(in_window) > 0 else np.nan\n"
     ]
    },
    {
     "name": "stdout",
     "output_type": "stream",
     "text": [
      "[===================>    41%                       ] P514 278/672   14s /    20s"
     ]
    },
    {
     "name": "stderr",
     "output_type": "stream",
     "text": [
      "C:\\Users\\bvarugu\\AppData\\Local\\Temp\\ipykernel_16212\\1669315176.py:18: RuntimeWarning: Mean of empty slice\n",
      "  mean_displacement = np.nanmean(disp_in_window) if len(in_window) > 0 else np.nan\n"
     ]
    },
    {
     "name": "stdout",
     "output_type": "stream",
     "text": [
      "[=====================>  43%                       ] P522 286/672   14s /    19s"
     ]
    },
    {
     "name": "stderr",
     "output_type": "stream",
     "text": [
      "C:\\Users\\bvarugu\\AppData\\Local\\Temp\\ipykernel_16212\\1669315176.py:18: RuntimeWarning: Mean of empty slice\n",
      "  mean_displacement = np.nanmean(disp_in_window) if len(in_window) > 0 else np.nan\n"
     ]
    },
    {
     "name": "stdout",
     "output_type": "stream",
     "text": [
      "[=====================>  43%                       ] P527 290/672   14s /    19s"
     ]
    },
    {
     "name": "stderr",
     "output_type": "stream",
     "text": [
      "C:\\Users\\bvarugu\\AppData\\Local\\Temp\\ipykernel_16212\\1669315176.py:18: RuntimeWarning: Mean of empty slice\n",
      "  mean_displacement = np.nanmean(disp_in_window) if len(in_window) > 0 else np.nan\n",
      "C:\\Users\\bvarugu\\AppData\\Local\\Temp\\ipykernel_16212\\1669315176.py:18: RuntimeWarning: Mean of empty slice\n",
      "  mean_displacement = np.nanmean(disp_in_window) if len(in_window) > 0 else np.nan\n"
     ]
    },
    {
     "name": "stdout",
     "output_type": "stream",
     "text": [
      "[=====================>  44%                       ] P533 296/672   15s /    19s"
     ]
    },
    {
     "name": "stderr",
     "output_type": "stream",
     "text": [
      "C:\\Users\\bvarugu\\AppData\\Local\\Temp\\ipykernel_16212\\1669315176.py:18: RuntimeWarning: Mean of empty slice\n",
      "  mean_displacement = np.nanmean(disp_in_window) if len(in_window) > 0 else np.nan\n",
      "C:\\Users\\bvarugu\\AppData\\Local\\Temp\\ipykernel_16212\\1669315176.py:18: RuntimeWarning: Mean of empty slice\n",
      "  mean_displacement = np.nanmean(disp_in_window) if len(in_window) > 0 else np.nan\n",
      "C:\\Users\\bvarugu\\AppData\\Local\\Temp\\ipykernel_16212\\1669315176.py:18: RuntimeWarning: Mean of empty slice\n",
      "  mean_displacement = np.nanmean(disp_in_window) if len(in_window) > 0 else np.nan\n"
     ]
    },
    {
     "name": "stdout",
     "output_type": "stream",
     "text": [
      "[======================> 46%                       ] P543 306/672   15s /    18s"
     ]
    },
    {
     "name": "stderr",
     "output_type": "stream",
     "text": [
      "C:\\Users\\bvarugu\\AppData\\Local\\Temp\\ipykernel_16212\\1669315176.py:18: RuntimeWarning: Mean of empty slice\n",
      "  mean_displacement = np.nanmean(disp_in_window) if len(in_window) > 0 else np.nan\n",
      "C:\\Users\\bvarugu\\AppData\\Local\\Temp\\ipykernel_16212\\1669315176.py:18: RuntimeWarning: Mean of empty slice\n",
      "  mean_displacement = np.nanmean(disp_in_window) if len(in_window) > 0 else np.nan\n"
     ]
    },
    {
     "name": "stdout",
     "output_type": "stream",
     "text": [
      "[======================> 46%                       ] P548 308/672   15s /    18s"
     ]
    },
    {
     "name": "stderr",
     "output_type": "stream",
     "text": [
      "C:\\Users\\bvarugu\\AppData\\Local\\Temp\\ipykernel_16212\\1669315176.py:18: RuntimeWarning: Mean of empty slice\n",
      "  mean_displacement = np.nanmean(disp_in_window) if len(in_window) > 0 else np.nan\n"
     ]
    },
    {
     "name": "stdout",
     "output_type": "stream",
     "text": [
      "[======================= 47%                       ] P557 316/672   16s /    18s"
     ]
    },
    {
     "name": "stderr",
     "output_type": "stream",
     "text": [
      "C:\\Users\\bvarugu\\AppData\\Local\\Temp\\ipykernel_16212\\1669315176.py:18: RuntimeWarning: Mean of empty slice\n",
      "  mean_displacement = np.nanmean(disp_in_window) if len(in_window) > 0 else np.nan\n"
     ]
    },
    {
     "name": "stdout",
     "output_type": "stream",
     "text": [
      "[======================= 48%                       ] P563 320/672   16s /    17s"
     ]
    },
    {
     "name": "stderr",
     "output_type": "stream",
     "text": [
      "C:\\Users\\bvarugu\\AppData\\Local\\Temp\\ipykernel_16212\\1669315176.py:18: RuntimeWarning: Mean of empty slice\n",
      "  mean_displacement = np.nanmean(disp_in_window) if len(in_window) > 0 else np.nan\n"
     ]
    },
    {
     "name": "stdout",
     "output_type": "stream",
     "text": [
      "[======================= 49%                       ] P578 328/672   17s /    17s"
     ]
    },
    {
     "name": "stderr",
     "output_type": "stream",
     "text": [
      "C:\\Users\\bvarugu\\AppData\\Local\\Temp\\ipykernel_16212\\1669315176.py:18: RuntimeWarning: Mean of empty slice\n",
      "  mean_displacement = np.nanmean(disp_in_window) if len(in_window) > 0 else np.nan\n",
      "C:\\Users\\bvarugu\\AppData\\Local\\Temp\\ipykernel_16212\\1669315176.py:18: RuntimeWarning: Mean of empty slice\n",
      "  mean_displacement = np.nanmean(disp_in_window) if len(in_window) > 0 else np.nan\n"
     ]
    },
    {
     "name": "stdout",
     "output_type": "stream",
     "text": [
      "[======================= 51%                       ] P594 342/672   17s /    17s"
     ]
    },
    {
     "name": "stderr",
     "output_type": "stream",
     "text": [
      "C:\\Users\\bvarugu\\AppData\\Local\\Temp\\ipykernel_16212\\1669315176.py:18: RuntimeWarning: Mean of empty slice\n",
      "  mean_displacement = np.nanmean(disp_in_window) if len(in_window) > 0 else np.nan\n"
     ]
    },
    {
     "name": "stdout",
     "output_type": "stream",
     "text": [
      "[======================= 55%                       ] P639 367/672   18s /    15s"
     ]
    },
    {
     "name": "stderr",
     "output_type": "stream",
     "text": [
      "C:\\Users\\bvarugu\\AppData\\Local\\Temp\\ipykernel_16212\\1669315176.py:18: RuntimeWarning: Mean of empty slice\n",
      "  mean_displacement = np.nanmean(disp_in_window) if len(in_window) > 0 else np.nan\n"
     ]
    },
    {
     "name": "stdout",
     "output_type": "stream",
     "text": [
      "[======================= 58% >                     ] P799 393/672   19s /    14s"
     ]
    },
    {
     "name": "stderr",
     "output_type": "stream",
     "text": [
      "C:\\Users\\bvarugu\\AppData\\Local\\Temp\\ipykernel_16212\\1669315176.py:18: RuntimeWarning: Mean of empty slice\n",
      "  mean_displacement = np.nanmean(disp_in_window) if len(in_window) > 0 else np.nan\n"
     ]
    },
    {
     "name": "stdout",
     "output_type": "stream",
     "text": [
      "[======================= 61% =>                    ] PSDM 408/672   20s /    12s"
     ]
    },
    {
     "name": "stderr",
     "output_type": "stream",
     "text": [
      "C:\\Users\\bvarugu\\AppData\\Local\\Temp\\ipykernel_16212\\1669315176.py:18: RuntimeWarning: Mean of empty slice\n",
      "  mean_displacement = np.nanmean(disp_in_window) if len(in_window) > 0 else np.nan\n",
      "C:\\Users\\bvarugu\\AppData\\Local\\Temp\\ipykernel_16212\\1669315176.py:18: RuntimeWarning: Mean of empty slice\n",
      "  mean_displacement = np.nanmean(disp_in_window) if len(in_window) > 0 else np.nan\n"
     ]
    },
    {
     "name": "stdout",
     "output_type": "stream",
     "text": [
      "[======================= 64% ===>                  ] SCIA 431/672   21s /    11s"
     ]
    },
    {
     "name": "stderr",
     "output_type": "stream",
     "text": [
      "C:\\Users\\bvarugu\\AppData\\Local\\Temp\\ipykernel_16212\\1669315176.py:18: RuntimeWarning: Mean of empty slice\n",
      "  mean_displacement = np.nanmean(disp_in_window) if len(in_window) > 0 else np.nan\n"
     ]
    },
    {
     "name": "stdout",
     "output_type": "stream",
     "text": [
      "[======================= 65% ===>                  ] SILK 437/672   21s /    11s"
     ]
    },
    {
     "name": "stderr",
     "output_type": "stream",
     "text": [
      "C:\\Users\\bvarugu\\AppData\\Local\\Temp\\ipykernel_16212\\1669315176.py:18: RuntimeWarning: Mean of empty slice\n",
      "  mean_displacement = np.nanmean(disp_in_window) if len(in_window) > 0 else np.nan\n"
     ]
    },
    {
     "name": "stdout",
     "output_type": "stream",
     "text": [
      "[======================= 67% =====>                ] T3RP 448/672   22s /    10s"
     ]
    },
    {
     "name": "stderr",
     "output_type": "stream",
     "text": [
      "C:\\Users\\bvarugu\\AppData\\Local\\Temp\\ipykernel_16212\\1669315176.py:18: RuntimeWarning: Mean of empty slice\n",
      "  mean_displacement = np.nanmean(disp_in_window) if len(in_window) > 0 else np.nan\n",
      "C:\\Users\\bvarugu\\AppData\\Local\\Temp\\ipykernel_16212\\1669315176.py:18: RuntimeWarning: Mean of empty slice\n",
      "  mean_displacement = np.nanmean(disp_in_window) if len(in_window) > 0 else np.nan\n"
     ]
    },
    {
     "name": "stdout",
     "output_type": "stream",
     "text": [
      "[======================= 67% =====>                ] TIBB 453/672   22s /    10s"
     ]
    },
    {
     "name": "stderr",
     "output_type": "stream",
     "text": [
      "C:\\Users\\bvarugu\\AppData\\Local\\Temp\\ipykernel_16212\\1669315176.py:18: RuntimeWarning: Mean of empty slice\n",
      "  mean_displacement = np.nanmean(disp_in_window) if len(in_window) > 0 else np.nan\n",
      "C:\\Users\\bvarugu\\AppData\\Local\\Temp\\ipykernel_16212\\1669315176.py:18: RuntimeWarning: Mean of empty slice\n",
      "  mean_displacement = np.nanmean(disp_in_window) if len(in_window) > 0 else np.nan\n"
     ]
    },
    {
     "name": "stdout",
     "output_type": "stream",
     "text": [
      "[======================= 69% =====>                ] VDCY 466/672   22s /    10s"
     ]
    },
    {
     "name": "stderr",
     "output_type": "stream",
     "text": [
      "C:\\Users\\bvarugu\\AppData\\Local\\Temp\\ipykernel_16212\\1669315176.py:18: RuntimeWarning: Mean of empty slice\n",
      "  mean_displacement = np.nanmean(disp_in_window) if len(in_window) > 0 else np.nan\n"
     ]
    },
    {
     "name": "stdout",
     "output_type": "stream",
     "text": [
      "[======================= 71% =======>              ] WGPP 477/672   23s /     9s"
     ]
    },
    {
     "name": "stderr",
     "output_type": "stream",
     "text": [
      "C:\\Users\\bvarugu\\AppData\\Local\\Temp\\ipykernel_16212\\1669315176.py:18: RuntimeWarning: Mean of empty slice\n",
      "  mean_displacement = np.nanmean(disp_in_window) if len(in_window) > 0 else np.nan\n"
     ]
    },
    {
     "name": "stdout",
     "output_type": "stream",
     "text": [
      "[======================= 72% =======>              ] WKPK 483/672   23s /     9s"
     ]
    },
    {
     "name": "stderr",
     "output_type": "stream",
     "text": [
      "C:\\Users\\bvarugu\\AppData\\Local\\Temp\\ipykernel_16212\\1669315176.py:18: RuntimeWarning: Mean of empty slice\n",
      "  mean_displacement = np.nanmean(disp_in_window) if len(in_window) > 0 else np.nan\n",
      "C:\\Users\\bvarugu\\AppData\\Local\\Temp\\ipykernel_16212\\1669315176.py:18: RuntimeWarning: Mean of empty slice\n",
      "  mean_displacement = np.nanmean(disp_in_window) if len(in_window) > 0 else np.nan\n"
     ]
    },
    {
     "name": "stdout",
     "output_type": "stream",
     "text": [
      "[======================= 73% =======>              ] WWMT 489/672   24s /     9s"
     ]
    },
    {
     "name": "stderr",
     "output_type": "stream",
     "text": [
      "C:\\Users\\bvarugu\\AppData\\Local\\Temp\\ipykernel_16212\\1669315176.py:18: RuntimeWarning: Mean of empty slice\n",
      "  mean_displacement = np.nanmean(disp_in_window) if len(in_window) > 0 else np.nan\n",
      "C:\\Users\\bvarugu\\AppData\\Local\\Temp\\ipykernel_16212\\1669315176.py:18: RuntimeWarning: Mean of empty slice\n",
      "  mean_displacement = np.nanmean(disp_in_window) if len(in_window) > 0 else np.nan\n"
     ]
    },
    {
     "name": "stdout",
     "output_type": "stream",
     "text": [
      "[======================= 74% ========>             ] ARM2 496/672   24s /     8s"
     ]
    },
    {
     "name": "stderr",
     "output_type": "stream",
     "text": [
      "C:\\Users\\bvarugu\\AppData\\Local\\Temp\\ipykernel_16212\\1669315176.py:18: RuntimeWarning: Mean of empty slice\n",
      "  mean_displacement = np.nanmean(disp_in_window) if len(in_window) > 0 else np.nan\n",
      "C:\\Users\\bvarugu\\AppData\\Local\\Temp\\ipykernel_16212\\1669315176.py:18: RuntimeWarning: Mean of empty slice\n",
      "  mean_displacement = np.nanmean(disp_in_window) if len(in_window) > 0 else np.nan\n"
     ]
    },
    {
     "name": "stdout",
     "output_type": "stream",
     "text": [
      "[======================= 74% ========>             ] BALD 497/672   25s /     8s"
     ]
    },
    {
     "name": "stderr",
     "output_type": "stream",
     "text": [
      "C:\\Users\\bvarugu\\AppData\\Local\\Temp\\ipykernel_16212\\1669315176.py:18: RuntimeWarning: Mean of empty slice\n",
      "  mean_displacement = np.nanmean(disp_in_window) if len(in_window) > 0 else np.nan\n"
     ]
    },
    {
     "name": "stdout",
     "output_type": "stream",
     "text": [
      "[======================= 76% =========>            ] CHOW 511/672   25s /     8s"
     ]
    },
    {
     "name": "stderr",
     "output_type": "stream",
     "text": [
      "C:\\Users\\bvarugu\\AppData\\Local\\Temp\\ipykernel_16212\\1669315176.py:18: RuntimeWarning: Mean of empty slice\n",
      "  mean_displacement = np.nanmean(disp_in_window) if len(in_window) > 0 else np.nan\n"
     ]
    },
    {
     "name": "stdout",
     "output_type": "stream",
     "text": [
      "[======================= 77% =========>            ] CRCN 517/672   25s /     7s"
     ]
    },
    {
     "name": "stderr",
     "output_type": "stream",
     "text": [
      "C:\\Users\\bvarugu\\AppData\\Local\\Temp\\ipykernel_16212\\1669315176.py:18: RuntimeWarning: Mean of empty slice\n",
      "  mean_displacement = np.nanmean(disp_in_window) if len(in_window) > 0 else np.nan\n"
     ]
    },
    {
     "name": "stdout",
     "output_type": "stream",
     "text": [
      "[======================= 79% ===========>          ] FOXG 529/672   26s /     6s"
     ]
    },
    {
     "name": "stderr",
     "output_type": "stream",
     "text": [
      "C:\\Users\\bvarugu\\AppData\\Local\\Temp\\ipykernel_16212\\1669315176.py:18: RuntimeWarning: Mean of empty slice\n",
      "  mean_displacement = np.nanmean(disp_in_window) if len(in_window) > 0 else np.nan\n"
     ]
    },
    {
     "name": "stdout",
     "output_type": "stream",
     "text": [
      "[======================= 80% ===========>          ] LBCH 539/672   26s /     6s"
     ]
    },
    {
     "name": "stderr",
     "output_type": "stream",
     "text": [
      "C:\\Users\\bvarugu\\AppData\\Local\\Temp\\ipykernel_16212\\1669315176.py:18: RuntimeWarning: Mean of empty slice\n",
      "  mean_displacement = np.nanmean(disp_in_window) if len(in_window) > 0 else np.nan\n",
      "C:\\Users\\bvarugu\\AppData\\Local\\Temp\\ipykernel_16212\\1669315176.py:18: RuntimeWarning: Mean of empty slice\n",
      "  mean_displacement = np.nanmean(disp_in_window) if len(in_window) > 0 else np.nan\n"
     ]
    },
    {
     "name": "stdout",
     "output_type": "stream",
     "text": [
      "[======================= 82% ============>         ] MIDA 553/672   27s /     5s"
     ]
    },
    {
     "name": "stderr",
     "output_type": "stream",
     "text": [
      "C:\\Users\\bvarugu\\AppData\\Local\\Temp\\ipykernel_16212\\1669315176.py:18: RuntimeWarning: Mean of empty slice\n",
      "  mean_displacement = np.nanmean(disp_in_window) if len(in_window) > 0 else np.nan\n",
      "C:\\Users\\bvarugu\\AppData\\Local\\Temp\\ipykernel_16212\\1669315176.py:18: RuntimeWarning: Mean of empty slice\n",
      "  mean_displacement = np.nanmean(disp_in_window) if len(in_window) > 0 else np.nan\n"
     ]
    },
    {
     "name": "stdout",
     "output_type": "stream",
     "text": [
      "[======================= 83% =============>        ] MULN 561/672   27s /     5s"
     ]
    },
    {
     "name": "stderr",
     "output_type": "stream",
     "text": [
      "C:\\Users\\bvarugu\\AppData\\Local\\Temp\\ipykernel_16212\\1669315176.py:18: RuntimeWarning: Mean of empty slice\n",
      "  mean_displacement = np.nanmean(disp_in_window) if len(in_window) > 0 else np.nan\n"
     ]
    },
    {
     "name": "stdout",
     "output_type": "stream",
     "text": [
      "[======================= 85% =============>        ] P198 570/672   27s /     4s"
     ]
    },
    {
     "name": "stderr",
     "output_type": "stream",
     "text": [
      "C:\\Users\\bvarugu\\AppData\\Local\\Temp\\ipykernel_16212\\1669315176.py:18: RuntimeWarning: Mean of empty slice\n",
      "  mean_displacement = np.nanmean(disp_in_window) if len(in_window) > 0 else np.nan\n",
      "C:\\Users\\bvarugu\\AppData\\Local\\Temp\\ipykernel_16212\\1669315176.py:18: RuntimeWarning: Mean of empty slice\n",
      "  mean_displacement = np.nanmean(disp_in_window) if len(in_window) > 0 else np.nan\n"
     ]
    },
    {
     "name": "stdout",
     "output_type": "stream",
     "text": [
      "[======================= 87% ===============>      ] P256 584/672   28s /     4s"
     ]
    },
    {
     "name": "stderr",
     "output_type": "stream",
     "text": [
      "C:\\Users\\bvarugu\\AppData\\Local\\Temp\\ipykernel_16212\\1669315176.py:18: RuntimeWarning: Mean of empty slice\n",
      "  mean_displacement = np.nanmean(disp_in_window) if len(in_window) > 0 else np.nan\n",
      "C:\\Users\\bvarugu\\AppData\\Local\\Temp\\ipykernel_16212\\1669315176.py:18: RuntimeWarning: Mean of empty slice\n",
      "  mean_displacement = np.nanmean(disp_in_window) if len(in_window) > 0 else np.nan\n"
     ]
    },
    {
     "name": "stdout",
     "output_type": "stream",
     "text": [
      "[======================= 88% ===============>      ] P299 594/672   28s /     3s"
     ]
    },
    {
     "name": "stderr",
     "output_type": "stream",
     "text": [
      "C:\\Users\\bvarugu\\AppData\\Local\\Temp\\ipykernel_16212\\1669315176.py:18: RuntimeWarning: Mean of empty slice\n",
      "  mean_displacement = np.nanmean(disp_in_window) if len(in_window) > 0 else np.nan\n",
      "C:\\Users\\bvarugu\\AppData\\Local\\Temp\\ipykernel_16212\\1669315176.py:18: RuntimeWarning: Mean of empty slice\n",
      "  mean_displacement = np.nanmean(disp_in_window) if len(in_window) > 0 else np.nan\n"
     ]
    },
    {
     "name": "stdout",
     "output_type": "stream",
     "text": [
      "[======================= 90% ================>     ] P562 603/672   28s /     3s"
     ]
    },
    {
     "name": "stderr",
     "output_type": "stream",
     "text": [
      "C:\\Users\\bvarugu\\AppData\\Local\\Temp\\ipykernel_16212\\1669315176.py:18: RuntimeWarning: Mean of empty slice\n",
      "  mean_displacement = np.nanmean(disp_in_window) if len(in_window) > 0 else np.nan\n"
     ]
    },
    {
     "name": "stdout",
     "output_type": "stream",
     "text": [
      "[======================= 91% =================>    ] P597 611/672   29s /     2s"
     ]
    },
    {
     "name": "stderr",
     "output_type": "stream",
     "text": [
      "C:\\Users\\bvarugu\\AppData\\Local\\Temp\\ipykernel_16212\\1669315176.py:18: RuntimeWarning: Mean of empty slice\n",
      "  mean_displacement = np.nanmean(disp_in_window) if len(in_window) > 0 else np.nan\n"
     ]
    },
    {
     "name": "stdout",
     "output_type": "stream",
     "text": [
      "[======================= 92% =================>    ] P621 619/672   29s /     2s"
     ]
    },
    {
     "name": "stderr",
     "output_type": "stream",
     "text": [
      "C:\\Users\\bvarugu\\AppData\\Local\\Temp\\ipykernel_16212\\1669315176.py:18: RuntimeWarning: Mean of empty slice\n",
      "  mean_displacement = np.nanmean(disp_in_window) if len(in_window) > 0 else np.nan\n"
     ]
    },
    {
     "name": "stdout",
     "output_type": "stream",
     "text": [
      "[======================= 94% ==================>   ] P809 632/672   29s /     1s"
     ]
    },
    {
     "name": "stderr",
     "output_type": "stream",
     "text": [
      "C:\\Users\\bvarugu\\AppData\\Local\\Temp\\ipykernel_16212\\1669315176.py:18: RuntimeWarning: Mean of empty slice\n",
      "  mean_displacement = np.nanmean(disp_in_window) if len(in_window) > 0 else np.nan\n"
     ]
    },
    {
     "name": "stdout",
     "output_type": "stream",
     "text": [
      "[======================= 95% ===================>  ] RAGG 640/672   30s /     1s"
     ]
    },
    {
     "name": "stderr",
     "output_type": "stream",
     "text": [
      "C:\\Users\\bvarugu\\AppData\\Local\\Temp\\ipykernel_16212\\1669315176.py:18: RuntimeWarning: Mean of empty slice\n",
      "  mean_displacement = np.nanmean(disp_in_window) if len(in_window) > 0 else np.nan\n"
     ]
    },
    {
     "name": "stdout",
     "output_type": "stream",
     "text": [
      "[======================= 97% ===================>  ] SGDM 649/672   30s /     0s"
     ]
    },
    {
     "name": "stderr",
     "output_type": "stream",
     "text": [
      "C:\\Users\\bvarugu\\AppData\\Local\\Temp\\ipykernel_16212\\1669315176.py:18: RuntimeWarning: Mean of empty slice\n",
      "  mean_displacement = np.nanmean(disp_in_window) if len(in_window) > 0 else np.nan\n"
     ]
    },
    {
     "name": "stdout",
     "output_type": "stream",
     "text": [
      "[======================= 97% ===================>  ] SOMT 655/672   30s /     0s"
     ]
    },
    {
     "name": "stderr",
     "output_type": "stream",
     "text": [
      "C:\\Users\\bvarugu\\AppData\\Local\\Temp\\ipykernel_16212\\1669315176.py:18: RuntimeWarning: Mean of empty slice\n",
      "  mean_displacement = np.nanmean(disp_in_window) if len(in_window) > 0 else np.nan\n",
      "C:\\Users\\bvarugu\\AppData\\Local\\Temp\\ipykernel_16212\\1669315176.py:18: RuntimeWarning: Mean of empty slice\n",
      "  mean_displacement = np.nanmean(disp_in_window) if len(in_window) > 0 else np.nan\n"
     ]
    },
    {
     "name": "stdout",
     "output_type": "stream",
     "text": [
      "[==================================================] WWFG 672/672   30s /     0s"
     ]
    },
    {
     "name": "stderr",
     "output_type": "stream",
     "text": [
      "C:\\Users\\bvarugu\\AppData\\Local\\Temp\\ipykernel_16212\\1669315176.py:18: RuntimeWarning: Mean of empty slice\n",
      "  mean_displacement = np.nanmean(disp_in_window) if len(in_window) > 0 else np.nan\n",
      "C:\\Users\\bvarugu\\AppData\\Local\\Temp\\ipykernel_16212\\1669315176.py:18: RuntimeWarning: Mean of empty slice\n",
      "  mean_displacement = np.nanmean(disp_in_window) if len(in_window) > 0 else np.nan\n"
     ]
    },
    {
     "name": "stdout",
     "output_type": "stream",
     "text": [
      " \n"
     ]
    }
   ],
   "source": [
    "# read the time-series file\n",
    "plot_unit = 'ft';\n",
    "if plot_unit == 'ft':\n",
    "    conversion_fac = 3.28084;\n",
    "elif plot_unit == 'mm':\n",
    "    conversion_fac = 1000;\n",
    "else:\n",
    "    conversion_fac = 1;\n",
    "\n",
    "plot_TRE= True;\n",
    "plot_error_bar = True    \n",
    "\n",
    "wind=0;\n",
    "xmin,xmax,ymin,ymax = 0,int(insar_metadata['WIDTH']),0,int(insar_metadata['LENGTH'])\n",
    "\n",
    "# print(f'reading timeseries from file: {insar_ts_file}')\n",
    "output_pdf_file = os.path.join(os.path.dirname(InSAR_vert_filename),'GNSSUp_vs_TRE_vs_DWRVert_2022_2024_monthly_{}_new.pdf'.format(plot_unit));\n",
    "num_site = len(site_names)\n",
    "prog_bar = ptime.progressBar(maxValue=num_site);\n",
    "insar_rmse_list = []; tre_rmse_list = [];final_site_names= [];\n",
    "with PdfPages(output_pdf_file) as pdf:\n",
    "    fig_count = 0  # To keep track of how many figures are plotted on a page\n",
    "    fig, axs = plt.subplots(4, 1, figsize=(8, 12), sharex=True)  # Create a 4x1 grid of subplots (4 figures per page)\n",
    "    for i, site_name in enumerate(site_names):\n",
    "        prog_bar.update(i+1, suffix=f'{site_name} {i+1}/{num_site}');\n",
    "       \n",
    "        gnss_obj = GNSS_ESESES(site =site_name,data_dir=gnss_dir);gnss_obj.get_site_lat_lon();gnss_obj.read_displacement();\n",
    "        gnss_obj._crop_to_date_range(start_date= date0, end_date= date1);\n",
    "        gnss_dis = gnss_obj.dis_u;\n",
    "        gnss_lalo = (gnss_obj.site_lat, gnss_obj.site_lon)\n",
    "    \n",
    "        # get relative LOS displacement on common dates\n",
    "        gnss_dates = gnss_obj.dates\n",
    "        gnss_monthly_dis = resample_to_monthly_date(gnss_dis,gnss_dates,insar_dates)\n",
    "        gnss_monthly_dis -= gnss_monthly_dis[0]\n",
    "    \n",
    "        # read InSAR\n",
    "        y, x = coord.geo2radar(gnss_lalo[0], gnss_lalo[1])[:2];\n",
    "        if y > ymin and y < ymax and x > xmin and x < xmax:\n",
    "            if wind > 0:\n",
    "                vert_dis = np.nanmean(vert_ts[:, y-wind:y+wind, x-wind:x+wind],axis=(1,2))\n",
    "            else:\n",
    "                vert_dis = vert_ts[:, y, x];\n",
    "            vert_dis[0] = 0.0;\n",
    "       # read TRE _data\n",
    "        if plot_TRE == True:\n",
    "            if site_name in TRE_site_names:\n",
    "                station_data = TRE_GNSS_grouped[TRE_GNSS_grouped['Sta'] == site_name];\n",
    "                TRE_dis = station_data[filtered_TRE_datelist].values.flatten();\n",
    "                TRE_monthly_dis = resample_to_monthly_date(TRE_dis,np.array(TRE_dates),insar_dates)\n",
    "                TRE_monthly_dis = TRE_monthly_dis -TRE_monthly_dis[0];\n",
    "                TRE_monthly_dis = TRE_monthly_dis/1000;\n",
    "            else:\n",
    "                TRE_monthly_dis = np.zeros([len(insar_dates)]) * np.nan\n",
    "            \n",
    "    \n",
    "        ## plot figure\n",
    "        if sum(~np.isnan(gnss_monthly_dis)) > 5 and sum(~np.isnan(vert_dis)) > 5 and sum(~np.isnan(TRE_monthly_dis)) > 5:\n",
    "            ax = axs[fig_count % 4]  # Access the current subplot in the 4x1 grid\n",
    "            #save_fig_name = os.path.join(gps_plot_dir,'GNSS_{}_vs_INSAR_LOS.png'.format(site_name));\n",
    "            ax.scatter(insar_dates, gnss_monthly_dis*conversion_fac, s=2**2, label=\"GNSS Daily Vertical\", color='black');\n",
    "            gnss_indices = [0, len(insar_dates) // 2, -1]  # Indices for first, middle, last points\n",
    "            gnss_errors = [0.1, 0.1, 0.1]  # Example error values, adjust as needed\n",
    "            if plot_error_bar == True:\n",
    "                for idx, err in zip(gnss_indices, gnss_errors):\n",
    "                    if not np.isnan(gnss_monthly_dis[idx]):\n",
    "                        ax.errorbar(insar_dates[idx],gnss_monthly_dis[idx] * conversion_fac,yerr=err,fmt='o',color='black',capsize=3,alpha=0.2)\n",
    "            #plot DWR INSAR vertical\n",
    "            ax.scatter(insar_dates, vert_dis*conversion_fac, label=insar_ts_label,marker='o', s=50, edgecolor='blue', facecolors='none');\n",
    "            if plot_TRE == True:\n",
    "                ax.scatter(insar_dates, TRE_monthly_dis*conversion_fac, label=\"TRE Vertical\", marker='x', s=50, color='red');\n",
    "            #ax.scatter(insar_dates, ifg_gnss_corr_dis*1000, label=\"IFG+GNSS+Corr\", s=25, color='red',alpha=0.5);\n",
    "            insar_rmse = np.sqrt(np.nanmean(((vert_dis*conversion_fac) -(gnss_monthly_dis*conversion_fac)) ** 2));\n",
    "            tre_rmse = np.sqrt(np.nanmean(((TRE_monthly_dis*conversion_fac) - (gnss_monthly_dis*conversion_fac)) ** 2));\n",
    "            insar_rmse_list.append(insar_rmse); tre_rmse_list.append(tre_rmse);final_site_names.append(site_name)\n",
    "            # axis format\n",
    "            if site_name in used_sites:\n",
    "                ax.set_title(f\"Station Name: {site_name} (used)\") \n",
    "            elif site_name in unused_sites:\n",
    "                ax.set_title(f\"Station Name: {site_name} (unused)\") \n",
    "            else:\n",
    "                ax.set_title(f\"Station Name: {site_name}\") \n",
    "            ax.set_ylabel('LOS displacement [{}]'.format(plot_unit));\n",
    "            ylim = int(np.ceil((max(abs(vert_dis))*1000)/100))*100;\n",
    "            if plot_unit == 'ft':\n",
    "                ylim = ylim * (conversion_fac/1000)\n",
    "            \n",
    "            ax.set_ylim([-ylim,ylim]);\n",
    "            \n",
    "             # Slant x-axis labels to 45 degrees\n",
    "            # Set x-ticks at every 4th month\n",
    "            #start_date = pd.to_datetime(\"2022-04-01\")  # Start from April 2022\n",
    "            ax.text(0.05, 0.95, f'DWR RMSE: {insar_rmse:.3f}{plot_unit}',transform=ax.transAxes, fontsize=10, verticalalignment='top')\n",
    "            ax.text(0.05, 0.85, f'TRE RMSE: {tre_rmse:.3f}{plot_unit}', transform=ax.transAxes, fontsize=10, verticalalignment='top')\n",
    "    \n",
    "            ax.xaxis.set_major_locator(mdates.MonthLocator(bymonthday=1, interval=3))  # Every 4 months\n",
    "            ax.xaxis.set_major_formatter(mdates.DateFormatter('%b %Y'))  # Format as Month Year\n",
    "            plt.xticks(rotation=45)  # Rotate x-axis labels for readability\n",
    "            \n",
    "            #plt.setp(ax.get_xticklabels(), rotation=45, ha=\"right\")  \n",
    "            fig_count += 1\n",
    "            if fig_count % 4 == 1:\n",
    "                ax.legend();\n",
    "\n",
    "            # Save to PDF every 4 plots and reset figure\n",
    "            if fig_count % 4 == 0:\n",
    "                pdf.savefig(fig)  # Save current page to PDF\n",
    "                plt.close(fig)    # Close the figure to free memory\n",
    "                fig_count = 0\n",
    "                fig, axs = plt.subplots(4, 1, figsize=(8, 12), sharex=True)  # Create new 4x1 figure for next 4 plots\n",
    "    if fig_count > 0:\n",
    "        pdf.savefig(fig)\n",
    "        plt.close(fig)\n",
    "prog_bar.close()\n",
    "#plt.show()\n"
   ]
  },
  {
   "cell_type": "code",
   "execution_count": 43,
   "id": "6da7fe56-ccd2-41c0-9312-40515f1991f5",
   "metadata": {},
   "outputs": [
    {
     "name": "stdout",
     "output_type": "stream",
     "text": [
      "Used sited RMSE, DWR:0.021098319956963013,TRE:0.026758052721386077\n",
      "Unused sited RMSE, DWR:0.0390745744651585,TRE:0.14555653414320616\n"
     ]
    }
   ],
   "source": [
    "insar_rmse_used = []; tre_rmse_used = [];insar_rmse_unused = []; tre_rmse_unused = [];\n",
    "for i,site in enumerate(final_site_names):\n",
    "    if site in used_sites:\n",
    "        insar_rmse_used.append(insar_rmse_list[i]);\n",
    "        tre_rmse_used.append(tre_rmse_list[i]);\n",
    "    elif site in unused_sites:\n",
    "        insar_rmse_unused.append(insar_rmse_list[i]);\n",
    "        tre_rmse_unused.append(tre_rmse_list[i]);\n",
    "    else:\n",
    "        print(f'{site} not in both used and unused lists')\n",
    "print(f'Used sited RMSE, DWR:{np.mean(insar_rmse_used)},TRE:{np.mean(tre_rmse_used)}')\n",
    "print(f'Unused sited RMSE, DWR:{np.mean(insar_rmse_unused)},TRE:{np.mean(tre_rmse_unused)}')"
   ]
  },
  {
   "cell_type": "code",
   "execution_count": 45,
   "id": "18034fbe-b5f2-4c7c-b7c2-81efe24b9a15",
   "metadata": {},
   "outputs": [
    {
     "data": {
      "text/plain": [
       "108"
      ]
     },
     "execution_count": 45,
     "metadata": {},
     "output_type": "execute_result"
    }
   ],
   "source": [
    "len(insar_rmse_used)"
   ]
  },
  {
   "cell_type": "code",
   "execution_count": 47,
   "id": "bca844b6-23ac-451b-bdc1-ff7c43c716f3",
   "metadata": {},
   "outputs": [
    {
     "data": {
      "text/plain": [
       "17"
      ]
     },
     "execution_count": 47,
     "metadata": {},
     "output_type": "execute_result"
    }
   ],
   "source": [
    "len(insar_rmse_unused)"
   ]
  },
  {
   "cell_type": "code",
   "execution_count": null,
   "id": "31ad993a-63ed-40ea-8ae9-1d3f4dca6df4",
   "metadata": {},
   "outputs": [],
   "source": []
  }
 ],
 "metadata": {
  "kernelspec": {
   "display_name": "mintpy",
   "language": "python",
   "name": "mintpy"
  },
  "language_info": {
   "codemirror_mode": {
    "name": "ipython",
    "version": 3
   },
   "file_extension": ".py",
   "mimetype": "text/x-python",
   "name": "python",
   "nbconvert_exporter": "python",
   "pygments_lexer": "ipython3",
   "version": "3.11.10"
  }
 },
 "nbformat": 4,
 "nbformat_minor": 5
}
