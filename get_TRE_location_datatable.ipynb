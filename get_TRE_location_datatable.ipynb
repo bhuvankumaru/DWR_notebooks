{
 "cells": [
  {
   "cell_type": "code",
   "execution_count": 2,
   "id": "79dfb9c7-44ca-4d6a-a006-0516ef67d9e8",
   "metadata": {},
   "outputs": [],
   "source": [
    "import os\n",
    "import numpy as np\n",
    "import pandas as pd\n",
    "import datetime as dt\n",
    "import matplotlib.pyplot as plt\n",
    "#import geopandas as gpd"
   ]
  },
  {
   "cell_type": "code",
   "execution_count": 6,
   "id": "c702b63c-aab4-4f9b-b501-e10584330f99",
   "metadata": {},
   "outputs": [
    {
     "data": {
      "text/html": [
       "<div>\n",
       "<style scoped>\n",
       "    .dataframe tbody tr th:only-of-type {\n",
       "        vertical-align: middle;\n",
       "    }\n",
       "\n",
       "    .dataframe tbody tr th {\n",
       "        vertical-align: top;\n",
       "    }\n",
       "\n",
       "    .dataframe thead th {\n",
       "        text-align: right;\n",
       "    }\n",
       "</style>\n",
       "<table border=\"1\" class=\"dataframe\">\n",
       "  <thead>\n",
       "    <tr style=\"text-align: right;\">\n",
       "      <th></th>\n",
       "      <th>CODE</th>\n",
       "      <th>Longitude</th>\n",
       "      <th>Latitude</th>\n",
       "      <th>StartDate</th>\n",
       "      <th>DataTable</th>\n",
       "      <th>Shape_Length</th>\n",
       "      <th>Shape_Area</th>\n",
       "    </tr>\n",
       "  </thead>\n",
       "  <tbody>\n",
       "    <tr>\n",
       "      <th>0</th>\n",
       "      <td>EAOJAXM</td>\n",
       "      <td>-121.53793</td>\n",
       "      <td>41.075027</td>\n",
       "      <td>10/7/2020 0:00:00</td>\n",
       "      <td>1</td>\n",
       "      <td>0.004067</td>\n",
       "      <td>0.000001</td>\n",
       "    </tr>\n",
       "    <tr>\n",
       "      <th>1</th>\n",
       "      <td>EAOJAXN</td>\n",
       "      <td>-121.53680</td>\n",
       "      <td>41.075027</td>\n",
       "      <td>10/7/2021 0:00:00</td>\n",
       "      <td>1</td>\n",
       "      <td>0.004067</td>\n",
       "      <td>0.000001</td>\n",
       "    </tr>\n",
       "    <tr>\n",
       "      <th>2</th>\n",
       "      <td>EAOJAXO</td>\n",
       "      <td>-121.53567</td>\n",
       "      <td>41.075027</td>\n",
       "      <td>10/7/2020 0:00:00</td>\n",
       "      <td>1</td>\n",
       "      <td>0.004067</td>\n",
       "      <td>0.000001</td>\n",
       "    </tr>\n",
       "    <tr>\n",
       "      <th>3</th>\n",
       "      <td>EAOJAXY</td>\n",
       "      <td>-121.52433</td>\n",
       "      <td>41.075027</td>\n",
       "      <td>3/7/2015 0:00:00</td>\n",
       "      <td>1</td>\n",
       "      <td>0.004067</td>\n",
       "      <td>0.000001</td>\n",
       "    </tr>\n",
       "    <tr>\n",
       "      <th>4</th>\n",
       "      <td>EAOJAY1</td>\n",
       "      <td>-121.52093</td>\n",
       "      <td>41.075027</td>\n",
       "      <td>10/7/2021 0:00:00</td>\n",
       "      <td>1</td>\n",
       "      <td>0.004067</td>\n",
       "      <td>0.000001</td>\n",
       "    </tr>\n",
       "  </tbody>\n",
       "</table>\n",
       "</div>"
      ],
      "text/plain": [
       "      CODE  Longitude   Latitude          StartDate  DataTable  Shape_Length  \\\n",
       "0  EAOJAXM -121.53793  41.075027  10/7/2020 0:00:00          1      0.004067   \n",
       "1  EAOJAXN -121.53680  41.075027  10/7/2021 0:00:00          1      0.004067   \n",
       "2  EAOJAXO -121.53567  41.075027  10/7/2020 0:00:00          1      0.004067   \n",
       "3  EAOJAXY -121.52433  41.075027   3/7/2015 0:00:00          1      0.004067   \n",
       "4  EAOJAY1 -121.52093  41.075027  10/7/2021 0:00:00          1      0.004067   \n",
       "\n",
       "   Shape_Area  \n",
       "0    0.000001  \n",
       "1    0.000001  \n",
       "2    0.000001  \n",
       "3    0.000001  \n",
       "4    0.000001  "
      ]
     },
     "execution_count": 6,
     "metadata": {},
     "output_type": "execute_result"
    }
   ],
   "source": [
    "TRE_point_data_locations_file = r'C:\\Users\\bvarugu\\Documents\\ArcGIS\\Projects\\TRE_Results_view\\Outputs\\TRE_Vertical_Disp_point_data_locations_2024Q1.csv'\n",
    "TRE_point_loc = pd.read_csv(TRE_point_data_locations_file,header =0);\n",
    "TRE_point_loc.head()"
   ]
  },
  {
   "cell_type": "code",
   "execution_count": 14,
   "id": "8f61f884-df42-449c-b649-7428399b5538",
   "metadata": {},
   "outputs": [
    {
     "name": "stdout",
     "output_type": "stream",
     "text": [
      "32.999169067 39.0 -123.0 -115.499169667 9001 7201\n"
     ]
    }
   ],
   "source": [
    "from mintpy.utils import ptime, readfile, writefile, utils as ut\n",
    "def get_corners(atr):\n",
    "    \"\"\"Get corners coordinate.\"\"\"\n",
    "    length = int(atr['LENGTH'])\n",
    "    width = int(atr['WIDTH'])\n",
    "    W = float(atr['X_FIRST'])\n",
    "    N = float(atr['Y_FIRST'])\n",
    "    lon_step = float(atr['X_STEP'])\n",
    "    lat_step = float(atr['Y_STEP'])\n",
    "    S = N + lat_step * length\n",
    "    E = W + lon_step * width\n",
    "\n",
    "    return S, N, W, E, width, length\n",
    "    \n",
    "ARIA_vert_timeseries_file= r'C:\\Users\\bvarugu\\Documents\\merged_UP_GNSS_corrected_timeseries.h5';\n",
    "ARIA_vert_ts_atr = readfile.read_attribute(ARIA_vert_timeseries_file);\n",
    "S, N, W, E, width, length = get_corners(ARIA_vert_ts_atr);\n",
    "print( S, N, W, E, width, length)"
   ]
  },
  {
   "cell_type": "code",
   "execution_count": 16,
   "id": "86b5cd97-3e1d-4c7f-bb9b-22c6558ede5a",
   "metadata": {},
   "outputs": [],
   "source": [
    "TRE_point_loc = TRE_point_loc[(TRE_point_loc['Latitude'] >= S) & (TRE_point_loc['Latitude'] <= N) &\n",
    "                              (TRE_point_loc['Longitude'] >= W) & (TRE_point_loc['Longitude'] <= E)];\n"
   ]
  },
  {
   "cell_type": "code",
   "execution_count": 22,
   "id": "c9fce572-e59f-4894-b8ac-3d1bcb37165b",
   "metadata": {},
   "outputs": [
    {
     "name": "stdout",
     "output_type": "stream",
     "text": [
      "[4, 5, 6, 7, 8, 9, 10, 11, 12, 13, 14, 15, 16, 17, 18, 19, 20, 21, 22, 23]\n"
     ]
    }
   ],
   "source": [
    "DataTable_list = list(np.unique(TRE_point_loc['DataTable']))\n",
    "print(DataTable_list)"
   ]
  },
  {
   "cell_type": "code",
   "execution_count": 24,
   "id": "b8dce6a5-9700-4ab1-9f1e-de1d266e7fa3",
   "metadata": {},
   "outputs": [
    {
     "name": "stdout",
     "output_type": "stream",
     "text": [
      "DataTable\n",
      "14    274978\n",
      "12    274978\n",
      "18    274978\n",
      "17    274978\n",
      "16    274978\n",
      "15    274978\n",
      "22    274978\n",
      "13    274978\n",
      "11    274978\n",
      "10    274978\n",
      "9     274978\n",
      "8     274978\n",
      "7     274978\n",
      "6     274970\n",
      "5     274782\n",
      "20    274751\n",
      "21    273769\n",
      "19    269683\n",
      "23    236972\n",
      "4      83669\n",
      "Name: count, dtype: int64\n"
     ]
    }
   ],
   "source": [
    "DataTable_counts = TRE_point_loc['DataTable'].value_counts();\n",
    "print(DataTable_counts)"
   ]
  },
  {
   "cell_type": "code",
   "execution_count": 26,
   "id": "826f13fa-7040-4025-a682-6750cc356303",
   "metadata": {},
   "outputs": [
    {
     "data": {
      "text/plain": [
       "pandas.core.series.Series"
      ]
     },
     "execution_count": 26,
     "metadata": {},
     "output_type": "execute_result"
    }
   ],
   "source": [
    "type(DataTable_counts)"
   ]
  },
  {
   "cell_type": "code",
   "execution_count": null,
   "id": "80cef7a2-2a10-493f-9307-d22c8007f651",
   "metadata": {},
   "outputs": [],
   "source": []
  }
 ],
 "metadata": {
  "kernelspec": {
   "display_name": "mintpy",
   "language": "python",
   "name": "mintpy"
  },
  "language_info": {
   "codemirror_mode": {
    "name": "ipython",
    "version": 3
   },
   "file_extension": ".py",
   "mimetype": "text/x-python",
   "name": "python",
   "nbconvert_exporter": "python",
   "pygments_lexer": "ipython3",
   "version": "3.11.10"
  }
 },
 "nbformat": 4,
 "nbformat_minor": 5
}
