{
 "cells": [
  {
   "cell_type": "code",
   "execution_count": 2,
   "id": "12673445-9177-401f-a9dd-ddbd935b52cf",
   "metadata": {},
   "outputs": [],
   "source": [
    "import numpy as np\n",
    "\n",
    "from mintpy.objects import sensor\n",
    "from mintpy.utils import ptime, readfile, utils as ut, writefile\n",
    "from mintpy.objects.stack import timeseries\n",
    "import datetime as dt\n",
    "import matplotlib.pyplot as plt"
   ]
  },
  {
   "cell_type": "code",
   "execution_count": 3,
   "id": "43719482-ac3b-4cf4-a5b4-f34861859bae",
   "metadata": {},
   "outputs": [
    {
     "name": "stdout",
     "output_type": "stream",
     "text": [
      "Ascending dates \n",
      " ['20220319', '20220331', '20220412', '20220424', '20220506', '20220518', '20220530', '20220611', '20220623', '20220705', '20220717', '20220729', '20220810', '20220822', '20220903', '20220915', '20220927', '20221009', '20221021', '20221102', '20221114', '20221126', '20221208', '20221220', '20230101', '20230113', '20230125', '20230206', '20230218', '20230302', '20230314', '20230326', '20230407', '20230419', '20230501', '20230513', '20230525', '20230606', '20230618', '20230630', '20230712', '20230724', '20230805', '20230817', '20230829', '20230910', '20230922', '20231004', '20231016', '20231028', '20231109', '20231121', '20231203', '20231215', '20231227', '20240108', '20240120', '20240201', '20240213', '20240225', '20240308', '20240320', '20240401', '20240413', '20240425', '20240507', '20240519', '20240531', '20240612', '20240706', '20240718', '20240730', '20240811', '20240823', '20240904', '20240916', '20240928', '20241010', '20241022', '20241103']\n",
      "Descending dates \n",
      " ['20220106', '20220130', '20220211', '20220223', '20220307', '20220319', '20220331', '20220412', '20220424', '20220506', '20220518', '20220530', '20220611', '20220623', '20220705', '20220717', '20220729', '20220810', '20220822', '20220903', '20220915', '20220927', '20221009', '20221021', '20221102', '20221114', '20221126', '20221208', '20221220', '20230101', '20230113', '20230125', '20230206', '20230218', '20230302', '20230314', '20230326', '20230407', '20230419', '20230501', '20230513', '20230525', '20230606', '20230618', '20230630', '20230712', '20230724', '20230805', '20230817', '20230829', '20230910', '20230922', '20231004', '20231016', '20231028', '20231109', '20231121', '20231215', '20231227', '20240108', '20240120', '20240201', '20240213', '20240225', '20240308', '20240320', '20240401', '20240413', '20240425', '20240507', '20240519', '20240531', '20240612', '20240624', '20240706', '20240718', '20240811', '20240823', '20240904', '20240916', '20240928']\n"
     ]
    }
   ],
   "source": [
    "#read asc and dsc timeseriesfiles to merge them\n",
    "asc_ts_file=r'C:\\Users\\bvarugu\\Documents\\merged_asc_GNSS_corrected_timeseries_TRE_GNSS.h5'\n",
    "asc_obj = timeseries(asc_ts_file);\n",
    "asc_ts_atr = asc_obj.get_metadata();\n",
    "asc_dates = asc_obj.get_date_list();\n",
    "\n",
    "dsc_ts_file=r'C:\\Users\\bvarugu\\Documents\\merged_dsc_GNSS_corrected_timeseries_TRE_GNSS.h5'\n",
    "dsc_obj = timeseries(dsc_ts_file);\n",
    "dsc_ts_atr = dsc_obj.get_metadata();\n",
    "dsc_dates = dsc_obj.get_date_list();\n",
    "print('Ascending dates \\n',asc_dates);\n",
    "print('Descending dates \\n',dsc_dates);"
   ]
  },
  {
   "cell_type": "code",
   "execution_count": 4,
   "id": "4df49acd-a5d8-4847-9ce2-f5e1431cf1b2",
   "metadata": {},
   "outputs": [],
   "source": [
    "if asc_ts_atr['REF_DATE'] != dsc_ts_atr['REF_DATE']:\n",
    "    print('***WARNING****');\n",
    "    print('REFerence date not smae. Change accordingly')"
   ]
  },
  {
   "cell_type": "code",
   "execution_count": 5,
   "id": "23465cff-aa1b-42c4-ad30-65667af50148",
   "metadata": {},
   "outputs": [],
   "source": [
    "asc_date_stamps = [dt.datetime.strptime(date, '%Y%m%d') for date in asc_dates];\n",
    "dsc_date_stamps = [dt.datetime.strptime(date, '%Y%m%d') for date in dsc_dates];\n"
   ]
  },
  {
   "cell_type": "code",
   "execution_count": 6,
   "id": "0d4ca67e-e627-4517-bcf9-a1312c9a2b86",
   "metadata": {},
   "outputs": [],
   "source": [
    "asc_dataset1 = readfile.read(asc_ts_file, datasetName=asc_ts_atr['REF_DATE'])[0];\n",
    "dsc_dataset1 = readfile.read(dsc_ts_file, datasetName=dsc_ts_atr['REF_DATE'])[0];\n",
    "asc_mask = np.isnan(asc_dataset1);\n",
    "dsc_mask = np.isnan(dsc_dataset1);\n",
    "combined_mask = asc_mask + dsc_mask;"
   ]
  },
  {
   "cell_type": "code",
   "execution_count": 7,
   "id": "3d3d616a-f834-4ae0-8eb4-a2b9fcfa8b11",
   "metadata": {},
   "outputs": [
    {
     "name": "stdout",
     "output_type": "stream",
     "text": [
      "[datetime.datetime(2022, 4, 1, 0, 0), datetime.datetime(2022, 5, 1, 0, 0), datetime.datetime(2022, 6, 1, 0, 0), datetime.datetime(2022, 7, 1, 0, 0), datetime.datetime(2022, 8, 1, 0, 0), datetime.datetime(2022, 9, 1, 0, 0), datetime.datetime(2022, 10, 1, 0, 0), datetime.datetime(2022, 11, 1, 0, 0), datetime.datetime(2022, 12, 1, 0, 0), datetime.datetime(2023, 1, 1, 0, 0), datetime.datetime(2023, 2, 1, 0, 0), datetime.datetime(2023, 3, 1, 0, 0), datetime.datetime(2023, 4, 1, 0, 0), datetime.datetime(2023, 5, 1, 0, 0), datetime.datetime(2023, 6, 1, 0, 0), datetime.datetime(2023, 7, 1, 0, 0), datetime.datetime(2023, 8, 1, 0, 0), datetime.datetime(2023, 9, 1, 0, 0), datetime.datetime(2023, 10, 1, 0, 0), datetime.datetime(2023, 11, 1, 0, 0), datetime.datetime(2023, 12, 1, 0, 0), datetime.datetime(2024, 1, 1, 0, 0), datetime.datetime(2024, 2, 1, 0, 0), datetime.datetime(2024, 3, 1, 0, 0), datetime.datetime(2024, 4, 1, 0, 0), datetime.datetime(2024, 5, 1, 0, 0), datetime.datetime(2024, 6, 1, 0, 0), datetime.datetime(2024, 7, 1, 0, 0), datetime.datetime(2024, 8, 1, 0, 0), datetime.datetime(2024, 9, 1, 0, 0), datetime.datetime(2024, 10, 1, 0, 0), datetime.datetime(2024, 11, 1, 0, 0)]\n",
      "Removing last two months\n"
     ]
    }
   ],
   "source": [
    "from dateutil import rrule\n",
    "\n",
    "\n",
    "monthly_date_stamps = list(rrule.rrule(rrule.MONTHLY,dtstart=asc_date_stamps[0].replace(day=1),until=asc_date_stamps[-1]));\n",
    "if ((asc_date_stamps[0]-monthly_date_stamps[0]).days > 15) or  ((dsc_date_stamps[0]-monthly_date_stamps[0]).days > 15):\n",
    "    monthly_date_stamps = monthly_date_stamps[1:]\n",
    "print(monthly_date_stamps)\n",
    "monthly_date_stamps = monthly_date_stamps[:-2];\n",
    "print('Removing last two months')"
   ]
  },
  {
   "cell_type": "code",
   "execution_count": 8,
   "id": "587aafe5-e938-4e00-8302-03db6a5b44a7",
   "metadata": {},
   "outputs": [],
   "source": [
    "asc_date_group = {monthly_date.strftime('%Y%m%d'): [] for monthly_date in monthly_date_stamps}\n",
    "dsc_date_group = {monthly_date.strftime('%Y%m%d'): [] for monthly_date in monthly_date_stamps}\n",
    "\n",
    "for monthly_date in monthly_date_stamps:\n",
    "    for date in asc_date_stamps:\n",
    "        if abs((date - monthly_date).days) <= 15:\n",
    "            asc_date_group[monthly_date.strftime('%Y%m%d')].append(date.strftime('%Y%m%d'))\n",
    "    for date in dsc_date_stamps:\n",
    "        if abs((date - monthly_date).days) <= 15:\n",
    "            dsc_date_group[monthly_date.strftime('%Y%m%d')].append(date.strftime('%Y%m%d'))\n",
    " ##*** fix errors related to the dates corresoding to 15th as they get recorded in the consecutive months       \n",
    "            "
   ]
  },
  {
   "cell_type": "code",
   "execution_count": 9,
   "id": "a5e000b5-7f4c-42db-bc94-294d5e85ab75",
   "metadata": {},
   "outputs": [],
   "source": [
    "monthly_date_list = [datestamp.strftime('%Y%m%d')for datestamp in monthly_date_stamps]\n",
    "\n",
    "if (asc_ts_atr['LENGTH'] != dsc_ts_atr['LENGTH']) or (asc_ts_atr['WIDTH'] != dsc_ts_atr['WIDTH']):\n",
    "    raise ValueError('Asc and Dsc datasets are not equal')\n"
   ]
  },
  {
   "cell_type": "code",
   "execution_count": 10,
   "id": "af72d394-8303-48a4-b098-d8f66909c137",
   "metadata": {},
   "outputs": [],
   "source": [
    "length = int(asc_ts_atr['LENGTH'])\n",
    "width = int(asc_ts_atr['WIDTH'])\n",
    "monthly_ts = np.zeros([len(monthly_date_list),length, width]) * np.nan;"
   ]
  },
  {
   "cell_type": "code",
   "execution_count": 11,
   "id": "f618d59a-f137-4957-b20d-90d8846ef2ae",
   "metadata": {},
   "outputs": [
    {
     "name": "stderr",
     "output_type": "stream",
     "text": [
      "C:\\Users\\bvarugu\\AppData\\Local\\Temp\\ipykernel_30088\\1934534159.py:13: RuntimeWarning: Mean of empty slice\n",
      "  monthly_ts[i,:,:] = np.nanmean(monthly_data,axis=0);\n"
     ]
    }
   ],
   "source": [
    "\n",
    "for i, monthly_date in enumerate(monthly_date_list):\n",
    "    asc_group_dates = asc_date_group[monthly_date];dsc_group_dates = dsc_date_group[monthly_date];\n",
    "    images_per_month = len(asc_group_dates) + len(dsc_group_dates)\n",
    "    monthly_data = np.zeros([images_per_month,length, width]) * np.nan;\n",
    "    temp =0;\n",
    "    for date in asc_group_dates:\n",
    "        monthly_data[temp,:,:]= readfile.read(asc_ts_file, datasetName=date)[0];\n",
    "        temp = temp+1;\n",
    "    for date in dsc_group_dates:\n",
    "        monthly_data[temp,:,:]= readfile.read(dsc_ts_file, datasetName=date)[0];\n",
    "        temp = temp+1;\n",
    "    \n",
    "    monthly_ts[i,:,:] = np.nanmean(monthly_data,axis=0);\n"
   ]
  },
  {
   "cell_type": "code",
   "execution_count": 12,
   "id": "78d198a3-5397-4069-9190-2a3f8f575476",
   "metadata": {},
   "outputs": [],
   "source": [
    "#make first date to zeros\n",
    "monthly_ts[0,:,:] *= 0 ;\n",
    "monthly_ts[:, combined_mask] = np.nan"
   ]
  },
  {
   "cell_type": "code",
   "execution_count": null,
   "id": "149b1d87-c1c0-46b6-8e36-a0e37e3119ba",
   "metadata": {},
   "outputs": [
    {
     "name": "stdout",
     "output_type": "stream",
     "text": [
      "delete exsited file: C:\\Users\\bvarugu\\Documents\\merged_UP_GNSS_corrected_timeseries_TRE_GNSS.h5\n",
      "create HDF5 file: C:\\Users\\bvarugu\\Documents\\merged_UP_GNSS_corrected_timeseries_TRE_GNSS.h5 with w mode\n",
      "create dataset /date       of |S8        in size of (30,)                with compression=None\n",
      "create dataset /timeseries of float64    in size of (30, 7201, 9001)     with compression=None\n"
     ]
    }
   ],
   "source": [
    "atr = dict()\n",
    "for key, value in asc_ts_atr.items():\n",
    "    atr[key] = value\n",
    "atr['FILE_TYPE'] = 'timeseries'\n",
    "\n",
    "atr['REF_DATE'] = monthly_date_list[0];\n",
    "\n",
    "file_outname = r'C:\\Users\\bvarugu\\Documents\\merged_UP_GNSS_corrected_timeseries_TRE_GNSS.h5'\n",
    "final_dates = np.array(monthly_date_list, dtype=np.bytes_);\n",
    "ts_dict = {\n",
    "    \"date\"       : final_dates,\n",
    "    \"timeseries\" : monthly_ts,\n",
    "}\n",
    "writefile.write(ts_dict,file_outname,metadata=atr);"
   ]
  },
  {
   "cell_type": "code",
   "execution_count": null,
   "id": "14617989-d3db-4afd-b22e-494614aecd5d",
   "metadata": {},
   "outputs": [],
   "source": []
  }
 ],
 "metadata": {
  "kernelspec": {
   "display_name": "mintpy",
   "language": "python",
   "name": "mintpy"
  },
  "language_info": {
   "codemirror_mode": {
    "name": "ipython",
    "version": 3
   },
   "file_extension": ".py",
   "mimetype": "text/x-python",
   "name": "python",
   "nbconvert_exporter": "python",
   "pygments_lexer": "ipython3",
   "version": "3.11.10"
  }
 },
 "nbformat": 4,
 "nbformat_minor": 5
}
