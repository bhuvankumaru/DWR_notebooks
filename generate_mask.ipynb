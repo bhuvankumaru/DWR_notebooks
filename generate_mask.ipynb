{
 "cells": [
  {
   "cell_type": "code",
   "execution_count": 1,
   "id": "000e8b30-e0e2-4ae6-bf5b-34bd07304f90",
   "metadata": {},
   "outputs": [],
   "source": [
    "import glob\n",
    "import os\n",
    "import subprocess\n",
    "import datetime as dt\n",
    "from pathlib import Path\n",
    "\n",
    "import numpy as np\n",
    "import pandas as pd\n",
    "from matplotlib import pyplot as plt\n",
    "from mintpy import view, plot_network\n",
    "from mintpy.objects import gnss, timeseries, ifgramStack\n",
    "from mintpy.smallbaselineApp import TimeSeriesAnalysis\n",
    "from mintpy.utils import ptime, readfile, writefile, utils as ut\n",
    "from scipy import signal\n",
    "from skimage.transform import rescale\n",
    "from urllib.request import urlretrieve\n",
    "from matplotlib.backends.backend_pdf import PdfPages\n"
   ]
  },
  {
   "cell_type": "code",
   "execution_count": 37,
   "id": "71ef82c3-a943-452a-a5af-97fa9816d821",
   "metadata": {},
   "outputs": [],
   "source": [
    "ts_file_list= [r'C:\\Users\\bvarugu\\Documents\\Concord\\Dsc\\corrected_ts_TRE_GNSS.h5',\n",
    "               r'C:\\Users\\bvarugu\\Documents\\Lamont_Earthquake\\ARIA_products\\Dsc\\corrected_ts_TRE_GNSS.h5',\n",
    "               r'C:\\Users\\bvarugu\\Documents\\Losangeles1\\Dsc\\mintpy\\corrected_ts_TRE_GNSS.h5',\n",
    "               r'C:\\Users\\bvarugu\\Documents\\Losangeles2\\Dsc\\mintpy\\corrected_ts_TRE_GNSS.h5',\n",
    "               r'C:\\Users\\bvarugu\\Documents\\SacDelta42\\Dsc\\mintpy\\geo\\corrected_ts_TRE_GNSS.h5',\n",
    "               r'C:\\Users\\bvarugu\\Documents\\SacDelta42\\frame470Dsc\\mintpy\\geo\\corrected_ts_TRE_GNSS.h5']\n",
    "geom_file_list= [r'C:\\Users\\bvarugu\\Documents\\Concord\\Dsc\\geometryGeo.h5',\n",
    "               r'C:\\Users\\bvarugu\\Documents\\Lamont_Earthquake\\ARIA_products\\Dsc\\geometryGeo.h5',\n",
    "               r'C:\\Users\\bvarugu\\Documents\\Losangeles1\\Dsc\\mintpy\\geometryGeo.h5',\n",
    "               r'C:\\Users\\bvarugu\\Documents\\Losangeles2\\Dsc\\mintpy\\geometryGeo.h5',\n",
    "               r'C:\\Users\\bvarugu\\Documents\\SacDelta42\\Dsc\\mintpy\\geo\\geo_geometryRadar.h5',\n",
    "               r'C:\\Users\\bvarugu\\Documents\\SacDelta42\\frame470Dsc\\mintpy\\geo\\geo_geometryRadar.h5'];"
   ]
  },
  {
   "cell_type": "code",
   "execution_count": 39,
   "id": "24cad4a9-9b47-44c3-b972-1c340ab90fad",
   "metadata": {
    "scrolled": true
   },
   "outputs": [
    {
     "name": "stdout",
     "output_type": "stream",
     "text": [
      "input temporalCoherence file: C:\\Users\\bvarugu\\Documents\\Concord\\Dsc\\temporalCoherence.h5\n",
      "read C:\\Users\\bvarugu\\Documents\\Concord\\Dsc\\temporalCoherence.h5\n",
      "create initial mask with the same size as the input file and all = 1\n",
      "all pixels with nan value = 0\n",
      "exclude pixels with value < 0.9\n",
      "create HDF5 file: C:\\Users\\bvarugu\\Documents\\Concord\\Dsc\\maskTempCoh_0.9.h5 with w mode\n",
      "create dataset /mask of bool       in size of (2190, 3844)         with compression=None\n",
      "finished writing to C:\\Users\\bvarugu\\Documents\\Concord\\Dsc\\maskTempCoh_0.9.h5\n",
      "time used: 00 mins 0.1 secs.\n",
      "input temporalCoherence file: C:\\Users\\bvarugu\\Documents\\Lamont_Earthquake\\ARIA_products\\Dsc\\temporalCoherence.h5\n",
      "read C:\\Users\\bvarugu\\Documents\\Lamont_Earthquake\\ARIA_products\\Dsc\\temporalCoherence.h5\n",
      "create initial mask with the same size as the input file and all = 1\n",
      "all pixels with nan value = 0\n",
      "exclude pixels with value < 0.9\n",
      "create HDF5 file: C:\\Users\\bvarugu\\Documents\\Lamont_Earthquake\\ARIA_products\\Dsc\\maskTempCoh_0.9.h5 with w mode\n",
      "create dataset /mask of bool       in size of (2191, 3791)         with compression=None\n",
      "finished writing to C:\\Users\\bvarugu\\Documents\\Lamont_Earthquake\\ARIA_products\\Dsc\\maskTempCoh_0.9.h5\n",
      "time used: 00 mins 0.1 secs.\n",
      "input temporalCoherence file: C:\\Users\\bvarugu\\Documents\\Losangeles1\\Dsc\\mintpy\\temporalCoherence.h5\n",
      "read C:\\Users\\bvarugu\\Documents\\Losangeles1\\Dsc\\mintpy\\temporalCoherence.h5\n",
      "create initial mask with the same size as the input file and all = 1\n",
      "all pixels with nan value = 0\n",
      "exclude pixels with value < 0.9\n",
      "create HDF5 file: C:\\Users\\bvarugu\\Documents\\Losangeles1\\Dsc\\mintpy\\maskTempCoh_0.9.h5 with w mode\n",
      "create dataset /mask of bool       in size of (2189, 3794)         with compression=None\n",
      "finished writing to C:\\Users\\bvarugu\\Documents\\Losangeles1\\Dsc\\mintpy\\maskTempCoh_0.9.h5\n",
      "time used: 00 mins 0.1 secs.\n",
      "input temporalCoherence file: C:\\Users\\bvarugu\\Documents\\Losangeles2\\Dsc\\mintpy\\temporalCoherence.h5\n",
      "read C:\\Users\\bvarugu\\Documents\\Losangeles2\\Dsc\\mintpy\\temporalCoherence.h5\n",
      "create initial mask with the same size as the input file and all = 1\n",
      "all pixels with nan value = 0\n",
      "exclude pixels with value < 0.9\n",
      "create HDF5 file: C:\\Users\\bvarugu\\Documents\\Losangeles2\\Dsc\\mintpy\\maskTempCoh_0.9.h5 with w mode\n",
      "create dataset /mask of bool       in size of (2191, 3739)         with compression=None\n",
      "finished writing to C:\\Users\\bvarugu\\Documents\\Losangeles2\\Dsc\\mintpy\\maskTempCoh_0.9.h5\n",
      "time used: 00 mins 0.1 secs.\n",
      "input temporalCoherence file: C:\\Users\\bvarugu\\Documents\\SacDelta42\\Dsc\\mintpy\\geo\\geo_temporalCoherence.h5\n",
      "read C:\\Users\\bvarugu\\Documents\\SacDelta42\\Dsc\\mintpy\\geo\\geo_temporalCoherence.h5\n",
      "create initial mask with the same size as the input file and all = 1\n",
      "all pixels with nan value = 0\n",
      "exclude pixels with value < 0.9\n",
      "create HDF5 file: C:\\Users\\bvarugu\\Documents\\SacDelta42\\Dsc\\mintpy\\geo\\maskTempCoh_0.9.h5 with w mode\n",
      "create dataset /mask of bool       in size of (2286, 3776)         with compression=None\n",
      "finished writing to C:\\Users\\bvarugu\\Documents\\SacDelta42\\Dsc\\mintpy\\geo\\maskTempCoh_0.9.h5\n",
      "time used: 00 mins 0.1 secs.\n",
      "input temporalCoherence file: C:\\Users\\bvarugu\\Documents\\SacDelta42\\frame470Dsc\\mintpy\\geo\\geo_temporalCoherence.h5\n",
      "read C:\\Users\\bvarugu\\Documents\\SacDelta42\\frame470Dsc\\mintpy\\geo\\geo_temporalCoherence.h5\n",
      "create initial mask with the same size as the input file and all = 1\n",
      "all pixels with nan value = 0\n",
      "exclude pixels with value < 0.9\n",
      "create HDF5 file: C:\\Users\\bvarugu\\Documents\\SacDelta42\\frame470Dsc\\mintpy\\geo\\maskTempCoh_0.9.h5 with w mode\n",
      "create dataset /mask of bool       in size of (3791, 4157)         with compression=None\n",
      "finished writing to C:\\Users\\bvarugu\\Documents\\SacDelta42\\frame470Dsc\\mintpy\\geo\\maskTempCoh_0.9.h5\n",
      "time used: 00 mins 0.2 secs.\n"
     ]
    }
   ],
   "source": [
    "import mintpy.cli.generate_mask\n",
    "for i in range(len(ts_file_list)):\n",
    "    ts_file = ts_file_list[i];\n",
    "    geom_file = geom_file_list[i];\n",
    "    mask_file = os.path.join(os.path.dirname(ts_file),'maskTempCoh_0.9.h5');\n",
    "    if 'geo_' in os.path.basename(geom_file):\n",
    "        temp_coh_file = os.path.join(os.path.dirname(ts_file),'geo_temporalCoherence.h5');\n",
    "    else:\n",
    "        temp_coh_file = os.path.join(os.path.dirname(ts_file),'temporalCoherence.h5');\n",
    "    if os.path.exists(temp_coh_file):\n",
    "        iargs = [temp_coh_file, '-m', '0.9', '-o', mask_file]\n",
    "        mintpy.cli.generate_mask.main(iargs);\n",
    "    else:\n",
    "        print('Temporal coherence file do not exist for',os.path.dirname(ts_file))"
   ]
  },
  {
   "cell_type": "code",
   "execution_count": 27,
   "id": "a421fe3b-aae7-4bff-a972-ea0c30d63a6b",
   "metadata": {},
   "outputs": [],
   "source": [
    "if 'geo_' in os.path.basename(geom_file):\n",
    "    print('geocoded')"
   ]
  },
  {
   "cell_type": "code",
   "execution_count": null,
   "id": "28fd7beb-5459-4c18-96c3-c95c0dfda0ae",
   "metadata": {},
   "outputs": [],
   "source": []
  }
 ],
 "metadata": {
  "kernelspec": {
   "display_name": "mintpy",
   "language": "python",
   "name": "mintpy"
  },
  "language_info": {
   "codemirror_mode": {
    "name": "ipython",
    "version": 3
   },
   "file_extension": ".py",
   "mimetype": "text/x-python",
   "name": "python",
   "nbconvert_exporter": "python",
   "pygments_lexer": "ipython3",
   "version": "3.11.10"
  }
 },
 "nbformat": 4,
 "nbformat_minor": 5
}
