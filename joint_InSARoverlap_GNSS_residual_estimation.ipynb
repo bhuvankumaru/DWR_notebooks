{
 "cells": [
  {
   "cell_type": "code",
   "execution_count": 5,
   "id": "b04c161d-845c-4a08-a739-5064ba5666f0",
   "metadata": {},
   "outputs": [],
   "source": [
    "import glob\n",
    "import os\n",
    "import subprocess\n",
    "import datetime as dt\n",
    "from pathlib import Path\n",
    "\n",
    "import numpy as np\n",
    "import pandas as pd\n",
    "from matplotlib import pyplot as plt\n",
    "from mintpy import view, plot_network\n",
    "from mintpy.objects import gnss, timeseries, ifgramStack\n",
    "from mintpy.smallbaselineApp import TimeSeriesAnalysis\n",
    "from mintpy.utils import ptime, readfile, utils as ut\n",
    "from scipy import signal\n",
    "\n",
    "from urllib.request import urlretrieve\n",
    "from matplotlib.backends.backend_pdf import PdfPages"
   ]
  },
  {
   "cell_type": "code",
   "execution_count": 11,
   "id": "15e47556-f159-4019-884e-5ab0cce368b8",
   "metadata": {},
   "outputs": [],
   "source": [
    "def get_corners(atr):\n",
    "    \"\"\"Get corners coordinate.\"\"\"\n",
    "    length = int(atr['LENGTH'])\n",
    "    width = int(atr['WIDTH'])\n",
    "    W = float(atr['X_FIRST'])\n",
    "    N = float(atr['Y_FIRST'])\n",
    "    lon_step = float(atr['X_STEP'])\n",
    "    lat_step = float(atr['Y_STEP'])\n",
    "    S = N + lat_step * length\n",
    "    E = W + lon_step * width\n",
    "\n",
    "    return S, N, W, E, width, length\n",
    "insar_velocity1,atr1 = readfile.read(r'C:\\Users\\bvarugu\\Documents\\Concord\\Asc\\velocity_refP725_msk_20alks_20rlks.h5', datasetName='velocity');\n",
    "insar_velocity2,atr2 = readfile.read(r'C:\\Users\\bvarugu\\Documents\\Lamont_Earthquake\\ARIA_products\\Asc\\velocity_refMRRY_msk_20alks_20rlks.h5', datasetName='velocity');\n",
    "insar_velocity1_RMSE = readfile.read(r'C:\\Users\\bvarugu\\Documents\\Concord\\Asc\\velocity_GNSS_msk_20alks_20rlks.h5', datasetName='velocityStd')[0];\n",
    "insar_velocity2_RMSE = readfile.read(r'C:\\Users\\bvarugu\\Documents\\Lamont_Earthquake\\ARIA_products\\Asc\\velocity_GNSS_integrated_msk_20alks_20rlks.h5', datasetName='velocityStd')[0];\n",
    "\n"
   ]
  },
  {
   "cell_type": "code",
   "execution_count": 15,
   "id": "f08b841a-c894-419b-aed5-32f668b3d6dd",
   "metadata": {},
   "outputs": [
    {
     "name": "stdout",
     "output_type": "stream",
     "text": [
      "grab corners of input matrices\n",
      "35.586652432 37.403318372 -121.670784665 -118.504119265 190 109\n",
      "34.42498623 36.24165217 -121.390784777 -118.24078603699999 189 109\n",
      "calculate corners of output matrix\n",
      "34.42498623 37.403318372 -121.670784665 -118.24078603699999\n",
      "Combined matrix shape is: 179 206\n"
     ]
    }
   ],
   "source": [
    "ratio_x = abs((float(atr1['X_STEP']) - float(atr2['X_STEP'])) / float(atr1['X_STEP']))\n",
    "ratio_y = abs((float(atr1['Y_STEP']) - float(atr2['Y_STEP'])) / float(atr1['Y_STEP']))\n",
    "if any(i > 1e-3 for i in [ratio_x, ratio_y]):\n",
    "    print('file 1: X_STEP - {}, Y_STEP - {}'.format(atr1['X_STEP'], atr1['Y_STEP']))\n",
    "    print('file 2: X_STEP - {}, Y_STEP - {}'.format(atr2['X_STEP'], atr2['Y_STEP']))\n",
    "    print('rescale the 2nd matrix into the same spatial resolution as the 1st one ...')\n",
    "    mat2, atr2 = rescale_data(mat2, meta=atr2, ref_meta=atr1)\n",
    "\n",
    "# input spatial extents\n",
    "print('grab corners of input matrices')\n",
    "S1, N1, W1, E1, width1, length1 = get_corners(atr1)\n",
    "S2, N2, W2, E2, width2, length2 = get_corners(atr2)\n",
    "print(S1, N1, W1, E1, width1, length1);\n",
    "print(S2, N2, W2, E2, width2, length2);\n",
    "# output spatial extent\n",
    "print('calculate corners of output matrix')\n",
    "W, E = min(W1, W2), max(E1, E2)\n",
    "S, N = min(S1, S2), max(N1, N2)\n",
    "print(S,N,W,E)\n",
    "lon_step = float(atr1['X_STEP'])\n",
    "lat_step = float(atr1['Y_STEP'])\n",
    "width  = int(np.ceil((E - W) / lon_step))\n",
    "length = int(np.ceil((S - N) / lat_step))\n",
    "print('Combined matrix shape is:',length,width)\n"
   ]
  },
  {
   "cell_type": "code",
   "execution_count": 19,
   "id": "98d6a565-f0c0-4b8a-9599-2a5b93f07c4a",
   "metadata": {},
   "outputs": [
    {
     "name": "stdout",
     "output_type": "stream",
     "text": [
      "estimate difference in the overlapping area\n",
      "0 0 190 109\n",
      "17 70 206 179\n"
     ]
    }
   ],
   "source": [
    "# index of input matrices in output matrix\n",
    "print('estimate difference in the overlapping area')\n",
    "lon_seq = np.linspace(W, W + width  * lon_step, width, endpoint=False);\n",
    "lat_seq = np.linspace(N, N + length * lat_step, length, endpoint=False);\n",
    "lons,lats= np.meshgrid(lon_seq,lat_seq);\n",
    "x1, y1 = np.argmin(np.square(lon_seq - W1)), np.argmin(np.square(lat_seq - N1))\n",
    "x2, y2 = np.argmin(np.square(lon_seq - W2)), np.argmin(np.square(lat_seq - N2))\n",
    "print(x1,y1,x1+width1,y1+length1)\n",
    "print(x2,y2,x2+width2,y2+length2)\n",
    "# estimate offset of the overlapping area\n",
    "mat11 = np.zeros([length, width]) * np.nan;\n",
    "mat22 = np.zeros([length, width]) * np.nan;\n",
    "mat11[y1:y1+length1, x1:x1+width1] = insar_velocity1\n",
    "mat22[y2:y2+length2, x2:x2+width2] = insar_velocity2\n",
    "mat_diff = mat22 - mat11  ###the finite or non-nan values in this matrix correspond to the overlap area\n",
    "\n",
    "\n",
    "def get_combined_mat(length, width,x1,y1,x2,y2,mat1,mat2,fill_value=np.nan):\n",
    "    mat = np.zeros([length, width], dtype=mat1.dtype) * fill_value\n",
    "\n",
    "    # fill the output matrix\n",
    "    flag2 = np.isfinite(mat2)\n",
    "    mat[y1:y1+length1, x1:x1+width1] = mat1\n",
    "    mat[y2:y2+length2, x2:x2+width2][flag2] = mat2[flag2]\n",
    "    return mat\n",
    "combined_rmse = get_combined_mat(length,width,x1,y1,x2,y2,insar_velocity1_RMSE,insar_velocity2_RMSE)\n"
   ]
  },
  {
   "cell_type": "code",
   "execution_count": 55,
   "id": "31448c89-566a-4252-84a1-942717884940",
   "metadata": {},
   "outputs": [
    {
     "data": {
      "text/plain": [
       "<matplotlib.image.AxesImage at 0x11c6332a390>"
      ]
     },
     "execution_count": 55,
     "metadata": {},
     "output_type": "execute_result"
    },
    {
     "data": {
      "image/png": "[encoded data removed]",
      "text/plain": [
       "<Figure size 640x480 with 1 Axes>"
      ]
     },
     "metadata": {},
     "output_type": "display_data"
    }
   ],
   "source": [
    "#plt.imshow(combined_rmse,cmap='jet')\n",
    "plt.imshow(mat_diff,cmap='jet',vmin=-0.01,vmax=0.01)"
   ]
  },
  {
   "cell_type": "code",
   "execution_count": 31,
   "id": "9674f416-a7ed-4d88-8d32-5ba777c85bb3",
   "metadata": {},
   "outputs": [
    {
     "name": "stdout",
     "output_type": "stream",
     "text": [
      "Average offset between the two frames is:-0.01m\n",
      "No. of pixels in the overlap area:3614\n"
     ]
    }
   ],
   "source": [
    "offset = np.nansum(mat_diff) / np.sum(np.isfinite(mat_diff))\n",
    "print(f'Average offset between the two frames is:{np.round(offset,4)}m');\n",
    "flag = np.isfinite(mat_diff);\n",
    "overlap_length = len(mat_diff[flag])\n",
    "print(f'No. of pixels in the overlap area:{overlap_length}')"
   ]
  },
  {
   "cell_type": "code",
   "execution_count": 33,
   "id": "8ebfe920-fdc1-4f9d-ba9d-06ebc0a5cc68",
   "metadata": {},
   "outputs": [
    {
     "name": "stdout",
     "output_type": "stream",
     "text": [
      "[36.23665217 36.23665217 36.23665217 ... 35.60331909 35.60331909\n",
      " 35.60331909] [-119.53745218 -119.52078552 -119.50411886 ... -120.25411856 -120.23745191\n",
      " -120.22078525]\n"
     ]
    }
   ],
   "source": [
    "\n",
    "overlap_lons = lons[flag];\n",
    "overlap_lats = lats[flag];\n",
    "overlap_RMSE = combined_rmse[flag];\n",
    "print(np.sum(overlap_RMSE < 0.0008))\n",
    "flag_RMSE = np.where(overlap_RMSE< 0.0008)[0]\n",
    "overlap_selected_lons = overlap_lons[flag_RMSE];\n",
    "overlap_selected_lats = overlap_lats[flag_RMSE];\n",
    "overlap_vel_diff = mat_diff[flag][flag_RMSE];\n",
    "print(len(overlap_vel_diff))"
   ]
  },
  {
   "cell_type": "code",
   "execution_count": 53,
   "id": "7d9229da-7c80-4151-b89f-24c122bb5786",
   "metadata": {},
   "outputs": [
    {
     "name": "stdout",
     "output_type": "stream",
     "text": [
      "172\n",
      "172\n"
     ]
    }
   ],
   "source": []
  },
  {
   "cell_type": "code",
   "execution_count": 33,
   "id": "a4356130-a081-49df-94b4-299da855a6af",
   "metadata": {},
   "outputs": [
    {
     "name": "stdout",
     "output_type": "stream",
     "text": [
      "179\n",
      "[37.40331837 37.38665171 37.36998505 37.35331839 37.33665173 37.31998507\n",
      " 37.30331841 37.28665175 37.26998509 37.25331843 37.23665177 37.21998511\n",
      " 37.20331845 37.18665179 37.16998513 37.15331847 37.13665181 37.11998515\n",
      " 37.10331849 37.08665183 37.06998517 37.05331851 37.03665185 37.01998519\n",
      " 37.00331853 36.98665187 36.96998521 36.95331855 36.93665189 36.91998523\n",
      " 36.90331857 36.88665191 36.86998525 36.85331859 36.83665193 36.81998527\n",
      " 36.80331861 36.78665195 36.76998529 36.75331863 36.73665197 36.71998531\n",
      " 36.70331865 36.68665199 36.66998533 36.65331867 36.63665201 36.61998535\n",
      " 36.60331869 36.58665203 36.56998537 36.55331871 36.53665205 36.51998539\n",
      " 36.50331873 36.48665207 36.46998541 36.45331875 36.43665209 36.41998543\n",
      " 36.40331877 36.38665211 36.36998545 36.35331879 36.33665213 36.31998547\n",
      " 36.30331881 36.28665215 36.26998549 36.25331883 36.23665217 36.21998551\n",
      " 36.20331885 36.18665219 36.16998553 36.15331887 36.13665221 36.11998555\n",
      " 36.10331889 36.08665223 36.06998557 36.05331891 36.03665225 36.01998559\n",
      " 36.00331893 35.98665227 35.96998561 35.95331895 35.93665229 35.91998563\n",
      " 35.90331897 35.88665231 35.86998565 35.85331899 35.83665233 35.81998567\n",
      " 35.80331901 35.78665235 35.76998569 35.75331903 35.73665237 35.71998571\n",
      " 35.70331905 35.68665239 35.66998573 35.65331907 35.63665241 35.61998575\n",
      " 35.60331909 35.58665243 35.56998577 35.55331911 35.53665245 35.51998579\n",
      " 35.50331913 35.48665247 35.46998581 35.45331915 35.43665249 35.41998583\n",
      " 35.40331917 35.38665251 35.36998585 35.35331919 35.33665253 35.31998587\n",
      " 35.30331921 35.28665255 35.26998589 35.25331923 35.23665257 35.21998591\n",
      " 35.20331925 35.18665259 35.16998593 35.15331927 35.13665261 35.11998595\n",
      " 35.10331929 35.08665263 35.06998597 35.05331931 35.03665265 35.01998599\n",
      " 35.00331933 34.98665267 34.96998601 34.95331935 34.93665269 34.91998603\n",
      " 34.90331937 34.88665271 34.86998605 34.85331939 34.83665273 34.81998607\n",
      " 34.80331941 34.78665275 34.76998609 34.75331943 34.73665277 34.71998611\n",
      " 34.70331945 34.68665279 34.66998613 34.65331947 34.63665281 34.61998615\n",
      " 34.60331949 34.58665283 34.56998617 34.55331951 34.53665285 34.51998619\n",
      " 34.50331953 34.48665287 34.46998621 34.45331955 34.43665289]\n"
     ]
    }
   ],
   "source": [
    "lats = np.linspace(N, N + length * lat_step, length, endpoint=False);\n",
    "print(len(lats));\n",
    "print(lats)"
   ]
  },
  {
   "cell_type": "code",
   "execution_count": 107,
   "id": "566f94bb-a944-464d-9ac2-8a9a04bfa52c",
   "metadata": {},
   "outputs": [
    {
     "name": "stdout",
     "output_type": "stream",
     "text": [
      "calculate corners of output matrix\n",
      "-121.390784777 -118.504119265 35.586652432 36.24165217\n"
     ]
    }
   ],
   "source": [
    "def get_lat_los(insar_metadata):\n",
    "    length,width = int(insar_metadata['LENGTH']),int(insar_metadata['WIDTH']) ;\n",
    "    X_FIRST = round(float(insar_metadata['X_FIRST']),4);\n",
    "    X_STEP = round(float(insar_metadata['X_STEP']),4);\n",
    "    X_LAST = round(X_FIRST+width*float(insar_metadata['X_STEP']),4);\n",
    "    \n",
    "    Y_FIRST = round(float(insar_metadata['Y_FIRST']),4);\n",
    "    Y_STEP = round(float(insar_metadata['Y_STEP']),4);\n",
    "    Y_LAST = round(Y_FIRST+length*float(insar_metadata['Y_STEP']),4);\n",
    "    lons = np.linspace(X_FIRST, X_LAST, width, endpoint=False)\n",
    "    lats = np.linspace(Y_FIRST, Y_LAST, length, endpoint=False)\n",
    "    \n",
    "    return lons,lats\n",
    "\n",
    "insar_velocity1,insar_metadata1 = readfile.read(r'C:\\Users\\bvarugu\\Documents\\Concord\\Asc\\velocity_refP725_msk_20alks_20rlks.h5', datasetName='velocity');\n",
    "\n",
    "(S1,N1,W1,E1) = ut.four_corners(insar_metadata1)\n",
    "start_date1 = insar_metadata1.get('START_DATE', None)\n",
    "end_date1 = insar_metadata1.get('END_DATE', None)\n",
    "coord1 = ut.coordinate(insar_metadata1)\n",
    "lons1,lats1 = get_lat_los(insar_metadata1)\n",
    "\n",
    "insar_velocity2,insar_metadata2 = readfile.read(r'C:\\Users\\bvarugu\\Documents\\Lamont_Earthquake\\ARIA_products\\Asc\\velocity_refMRRY_msk_20alks_20rlks.h5', datasetName='velocity');\n",
    "(S2,N2,W2,E2) = ut.four_corners(insar_metadata2)\n",
    "start_date2 = insar_metadata2.get('START_DATE', None)\n",
    "end_date2 = insar_metadata2.get('END_DATE', None)\n",
    "coord2 = ut.coordinate(insar_metadata2);\n",
    "lons2,lats2 = get_lat_los(insar_metadata2);\n",
    "\n",
    "print('calculate corners of output matrix')\n",
    "W, E = max(W1, W2), min(E1, E2)\n",
    "S, N = max(S1, S2), min(N1, N2)\n",
    "print(W,E,S,N)"
   ]
  },
  {
   "cell_type": "code",
   "execution_count": 103,
   "id": "e5a85f8b-5d2d-4a0f-afd9-a8c59356b6ff",
   "metadata": {},
   "outputs": [
    {
     "name": "stdout",
     "output_type": "stream",
     "text": [
      "Indices in Raster 1: []\n",
      "Indices in Raster 2: []\n"
     ]
    }
   ],
   "source": [
    "# Create coordinate grids\n",
    "coords1 = np.array([(lat, lon) for lat in lats1 for lon in lons1])\n",
    "coords2 = np.array([(lat, lon) for lat in lats2 for lon in lons2])\n",
    "\n",
    "# Round to desired precision for matching\n",
    "precision = 4\n",
    "coords1 = np.round(coords1, precision)\n",
    "coords2 = np.round(coords2, precision)\n",
    "\n",
    "# Find overlapping coordinates using sorting\n",
    "# Convert to unique strings for efficient matching\n",
    "coords1_str = np.array([\"{:.4f}_{:.4f}\".format(lat, lon) for lat, lon in coords1])\n",
    "coords2_str = np.array([\"{:.4f}_{:.4f}\".format(lat, lon) for lat, lon in coords2])\n",
    "\n",
    "# Get unique overlaps\n",
    "overlaps = np.intersect1d(coords1_str, coords2_str)\n",
    "\n",
    "# Find indices of overlaps in the original arrays\n",
    "indices1 = np.nonzero(np.isin(coords1_str, overlaps))[0]\n",
    "indices2 = np.nonzero(np.isin(coords2_str, overlaps))[0]\n",
    "\n",
    "print(\"Indices in Raster 1:\", indices1)\n",
    "print(\"Indices in Raster 2:\", indices2)"
   ]
  },
  {
   "cell_type": "code",
   "execution_count": null,
   "id": "f9fab4ea-7ec6-4ff9-a67f-0ec4400851e9",
   "metadata": {},
   "outputs": [],
   "source": []
  }
 ],
 "metadata": {
  "kernelspec": {
   "display_name": "mintpy",
   "language": "python",
   "name": "mintpy"
  },
  "language_info": {
   "codemirror_mode": {
    "name": "ipython",
    "version": 3
   },
   "file_extension": ".py",
   "mimetype": "text/x-python",
   "name": "python",
   "nbconvert_exporter": "python",
   "pygments_lexer": "ipython3",
   "version": "3.11.10"
  }
 },
 "nbformat": 4,
 "nbformat_minor": 5
}
